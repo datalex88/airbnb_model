{
 "cells": [
  {
   "cell_type": "markdown",
   "metadata": {},
   "source": [
    "# Problem Set 6: Linear Regression\n",
    "\n",
    "### Alex Davis, Jeeyoung Kim, Rafael Bayer, Scarlett Hwang\n",
    "\n",
    "\n",
    "(Due on Thu, Dec 5th 5pm)"
   ]
  },
  {
   "cell_type": "code",
   "execution_count": 2,
   "metadata": {},
   "outputs": [],
   "source": [
    "import numpy as np\n",
    "import pandas as pd  \n",
    "import statsmodels.formula.api as smf\n",
    "import sklearn.linear_model as slm\n",
    "import matplotlib.pyplot as plt"
   ]
  },
  {
   "cell_type": "markdown",
   "metadata": {},
   "source": [
    "## 1. Data description (15pt)\n",
    "\n",
    "#### 1. Load the data airbnb-seattle-listings-train.csv. Broadly describe the variables you see, their encoding, and discuss if these may be valuable in determining the price."
   ]
  },
  {
   "cell_type": "code",
   "execution_count": 21,
   "metadata": {},
   "outputs": [],
   "source": [
    "data = pd.read_csv('airbnb-seattle-listings-train.csv', sep='\\t')"
   ]
  },
  {
   "cell_type": "code",
   "execution_count": 22,
   "metadata": {},
   "outputs": [
    {
     "data": {
      "text/html": [
       "<div>\n",
       "<style scoped>\n",
       "    .dataframe tbody tr th:only-of-type {\n",
       "        vertical-align: middle;\n",
       "    }\n",
       "\n",
       "    .dataframe tbody tr th {\n",
       "        vertical-align: top;\n",
       "    }\n",
       "\n",
       "    .dataframe thead th {\n",
       "        text-align: right;\n",
       "    }\n",
       "</style>\n",
       "<table border=\"1\" class=\"dataframe\">\n",
       "  <thead>\n",
       "    <tr style=\"text-align: right;\">\n",
       "      <th></th>\n",
       "      <th>id</th>\n",
       "      <th>listing_url</th>\n",
       "      <th>scrape_id</th>\n",
       "      <th>last_scraped</th>\n",
       "      <th>name</th>\n",
       "      <th>summary</th>\n",
       "      <th>space</th>\n",
       "      <th>description</th>\n",
       "      <th>experiences_offered</th>\n",
       "      <th>neighborhood_overview</th>\n",
       "      <th>...</th>\n",
       "      <th>instant_bookable</th>\n",
       "      <th>is_business_travel_ready</th>\n",
       "      <th>cancellation_policy</th>\n",
       "      <th>require_guest_profile_picture</th>\n",
       "      <th>require_guest_phone_verification</th>\n",
       "      <th>calculated_host_listings_count</th>\n",
       "      <th>calculated_host_listings_count_entire_homes</th>\n",
       "      <th>calculated_host_listings_count_private_rooms</th>\n",
       "      <th>calculated_host_listings_count_shared_rooms</th>\n",
       "      <th>reviews_per_month</th>\n",
       "    </tr>\n",
       "  </thead>\n",
       "  <tbody>\n",
       "    <tr>\n",
       "      <th>0</th>\n",
       "      <td>2318</td>\n",
       "      <td>https://www.airbnb.com/rooms/2318</td>\n",
       "      <td>20190922030624</td>\n",
       "      <td>2019-09-22</td>\n",
       "      <td>Casa Madrona - Urban Oasis 1 block from the park!</td>\n",
       "      <td>Gorgeous, architect remodeled, 1917 Dutch Colo...</td>\n",
       "      <td>Casa Madrona is a gorgeous, architect remodele...</td>\n",
       "      <td>Gorgeous, architect remodeled, 1917 Dutch Colo...</td>\n",
       "      <td>none</td>\n",
       "      <td>Madrona is a hidden gem of a neighborhood. It ...</td>\n",
       "      <td>...</td>\n",
       "      <td>f</td>\n",
       "      <td>f</td>\n",
       "      <td>strict_14_with_grace_period</td>\n",
       "      <td>f</td>\n",
       "      <td>f</td>\n",
       "      <td>2</td>\n",
       "      <td>2</td>\n",
       "      <td>0</td>\n",
       "      <td>0</td>\n",
       "      <td>0.21</td>\n",
       "    </tr>\n",
       "    <tr>\n",
       "      <th>1</th>\n",
       "      <td>5682</td>\n",
       "      <td>https://www.airbnb.com/rooms/5682</td>\n",
       "      <td>20190922030624</td>\n",
       "      <td>2019-09-22</td>\n",
       "      <td>Cozy Studio, min. to downtown -WiFi</td>\n",
       "      <td>The Cozy Studio is a perfect launchpad for you...</td>\n",
       "      <td>Hello fellow travelers, Save some money and ha...</td>\n",
       "      <td>The Cozy Studio is a perfect launchpad for you...</td>\n",
       "      <td>none</td>\n",
       "      <td>NaN</td>\n",
       "      <td>...</td>\n",
       "      <td>f</td>\n",
       "      <td>f</td>\n",
       "      <td>strict_14_with_grace_period</td>\n",
       "      <td>f</td>\n",
       "      <td>t</td>\n",
       "      <td>1</td>\n",
       "      <td>1</td>\n",
       "      <td>0</td>\n",
       "      <td>0</td>\n",
       "      <td>3.99</td>\n",
       "    </tr>\n",
       "    <tr>\n",
       "      <th>2</th>\n",
       "      <td>9419</td>\n",
       "      <td>https://www.airbnb.com/rooms/9419</td>\n",
       "      <td>20190922030624</td>\n",
       "      <td>2019-09-22</td>\n",
       "      <td>Glorious sun room w/ memory foambed</td>\n",
       "      <td>This beautiful double room features a magical ...</td>\n",
       "      <td>Our new Sunny space has a private room from th...</td>\n",
       "      <td>This beautiful double room features a magical ...</td>\n",
       "      <td>none</td>\n",
       "      <td>Lots of restaurants (see our guide book) bars,...</td>\n",
       "      <td>...</td>\n",
       "      <td>f</td>\n",
       "      <td>f</td>\n",
       "      <td>moderate</td>\n",
       "      <td>t</td>\n",
       "      <td>t</td>\n",
       "      <td>8</td>\n",
       "      <td>0</td>\n",
       "      <td>8</td>\n",
       "      <td>0</td>\n",
       "      <td>1.29</td>\n",
       "    </tr>\n",
       "    <tr>\n",
       "      <th>3</th>\n",
       "      <td>9460</td>\n",
       "      <td>https://www.airbnb.com/rooms/9460</td>\n",
       "      <td>20190922030624</td>\n",
       "      <td>2019-09-22</td>\n",
       "      <td>Downtown Convention Center B&amp;B -- Free Minibar</td>\n",
       "      <td>Take up a glass of wine and unwind on one of t...</td>\n",
       "      <td>Greetings from Seattle. Thanks for considering...</td>\n",
       "      <td>Take up a glass of wine and unwind on one of t...</td>\n",
       "      <td>none</td>\n",
       "      <td>The apartment is situated at the intersection ...</td>\n",
       "      <td>...</td>\n",
       "      <td>t</td>\n",
       "      <td>f</td>\n",
       "      <td>moderate</td>\n",
       "      <td>f</td>\n",
       "      <td>f</td>\n",
       "      <td>4</td>\n",
       "      <td>3</td>\n",
       "      <td>1</td>\n",
       "      <td>0</td>\n",
       "      <td>3.62</td>\n",
       "    </tr>\n",
       "    <tr>\n",
       "      <th>4</th>\n",
       "      <td>9531</td>\n",
       "      <td>https://www.airbnb.com/rooms/9531</td>\n",
       "      <td>20190922030624</td>\n",
       "      <td>2019-09-22</td>\n",
       "      <td>The Adorable Sweet Orange Craftsman</td>\n",
       "      <td>The Sweet Orange is a delightful and spacious ...</td>\n",
       "      <td>The Sweet Orange invites you to stay and play,...</td>\n",
       "      <td>The Sweet Orange is a delightful and spacious ...</td>\n",
       "      <td>none</td>\n",
       "      <td>The neighborhood is awesome!  Just far enough ...</td>\n",
       "      <td>...</td>\n",
       "      <td>f</td>\n",
       "      <td>f</td>\n",
       "      <td>strict_14_with_grace_period</td>\n",
       "      <td>f</td>\n",
       "      <td>t</td>\n",
       "      <td>2</td>\n",
       "      <td>2</td>\n",
       "      <td>0</td>\n",
       "      <td>0</td>\n",
       "      <td>0.39</td>\n",
       "    </tr>\n",
       "  </tbody>\n",
       "</table>\n",
       "<p>5 rows × 106 columns</p>\n",
       "</div>"
      ],
      "text/plain": [
       "     id                        listing_url       scrape_id last_scraped  \\\n",
       "0  2318  https://www.airbnb.com/rooms/2318  20190922030624   2019-09-22   \n",
       "1  5682  https://www.airbnb.com/rooms/5682  20190922030624   2019-09-22   \n",
       "2  9419  https://www.airbnb.com/rooms/9419  20190922030624   2019-09-22   \n",
       "3  9460  https://www.airbnb.com/rooms/9460  20190922030624   2019-09-22   \n",
       "4  9531  https://www.airbnb.com/rooms/9531  20190922030624   2019-09-22   \n",
       "\n",
       "                                                name  \\\n",
       "0  Casa Madrona - Urban Oasis 1 block from the park!   \n",
       "1                Cozy Studio, min. to downtown -WiFi   \n",
       "2                Glorious sun room w/ memory foambed   \n",
       "3     Downtown Convention Center B&B -- Free Minibar   \n",
       "4                The Adorable Sweet Orange Craftsman   \n",
       "\n",
       "                                             summary  \\\n",
       "0  Gorgeous, architect remodeled, 1917 Dutch Colo...   \n",
       "1  The Cozy Studio is a perfect launchpad for you...   \n",
       "2  This beautiful double room features a magical ...   \n",
       "3  Take up a glass of wine and unwind on one of t...   \n",
       "4  The Sweet Orange is a delightful and spacious ...   \n",
       "\n",
       "                                               space  \\\n",
       "0  Casa Madrona is a gorgeous, architect remodele...   \n",
       "1  Hello fellow travelers, Save some money and ha...   \n",
       "2  Our new Sunny space has a private room from th...   \n",
       "3  Greetings from Seattle. Thanks for considering...   \n",
       "4  The Sweet Orange invites you to stay and play,...   \n",
       "\n",
       "                                         description experiences_offered  \\\n",
       "0  Gorgeous, architect remodeled, 1917 Dutch Colo...                none   \n",
       "1  The Cozy Studio is a perfect launchpad for you...                none   \n",
       "2  This beautiful double room features a magical ...                none   \n",
       "3  Take up a glass of wine and unwind on one of t...                none   \n",
       "4  The Sweet Orange is a delightful and spacious ...                none   \n",
       "\n",
       "                               neighborhood_overview        ...          \\\n",
       "0  Madrona is a hidden gem of a neighborhood. It ...        ...           \n",
       "1                                                NaN        ...           \n",
       "2  Lots of restaurants (see our guide book) bars,...        ...           \n",
       "3  The apartment is situated at the intersection ...        ...           \n",
       "4  The neighborhood is awesome!  Just far enough ...        ...           \n",
       "\n",
       "  instant_bookable is_business_travel_ready          cancellation_policy  \\\n",
       "0                f                        f  strict_14_with_grace_period   \n",
       "1                f                        f  strict_14_with_grace_period   \n",
       "2                f                        f                     moderate   \n",
       "3                t                        f                     moderate   \n",
       "4                f                        f  strict_14_with_grace_period   \n",
       "\n",
       "  require_guest_profile_picture require_guest_phone_verification  \\\n",
       "0                             f                                f   \n",
       "1                             f                                t   \n",
       "2                             t                                t   \n",
       "3                             f                                f   \n",
       "4                             f                                t   \n",
       "\n",
       "   calculated_host_listings_count  \\\n",
       "0                               2   \n",
       "1                               1   \n",
       "2                               8   \n",
       "3                               4   \n",
       "4                               2   \n",
       "\n",
       "   calculated_host_listings_count_entire_homes  \\\n",
       "0                                            2   \n",
       "1                                            1   \n",
       "2                                            0   \n",
       "3                                            3   \n",
       "4                                            2   \n",
       "\n",
       "  calculated_host_listings_count_private_rooms  \\\n",
       "0                                            0   \n",
       "1                                            0   \n",
       "2                                            8   \n",
       "3                                            1   \n",
       "4                                            0   \n",
       "\n",
       "   calculated_host_listings_count_shared_rooms  reviews_per_month  \n",
       "0                                            0               0.21  \n",
       "1                                            0               3.99  \n",
       "2                                            0               1.29  \n",
       "3                                            0               3.62  \n",
       "4                                            0               0.39  \n",
       "\n",
       "[5 rows x 106 columns]"
      ]
     },
     "execution_count": 22,
     "metadata": {},
     "output_type": "execute_result"
    }
   ],
   "source": [
    "data.head()"
   ]
  },
  {
   "cell_type": "code",
   "execution_count": 23,
   "metadata": {},
   "outputs": [
    {
     "data": {
      "text/plain": [
       "['id',\n",
       " 'listing_url',\n",
       " 'scrape_id',\n",
       " 'last_scraped',\n",
       " 'name',\n",
       " 'summary',\n",
       " 'space',\n",
       " 'description',\n",
       " 'experiences_offered',\n",
       " 'neighborhood_overview',\n",
       " 'notes',\n",
       " 'transit',\n",
       " 'access',\n",
       " 'interaction',\n",
       " 'house_rules',\n",
       " 'thumbnail_url',\n",
       " 'medium_url',\n",
       " 'picture_url',\n",
       " 'xl_picture_url',\n",
       " 'host_id',\n",
       " 'host_url',\n",
       " 'host_name',\n",
       " 'host_since',\n",
       " 'host_location',\n",
       " 'host_about',\n",
       " 'host_response_time',\n",
       " 'host_response_rate',\n",
       " 'host_acceptance_rate',\n",
       " 'host_is_superhost',\n",
       " 'host_thumbnail_url',\n",
       " 'host_picture_url',\n",
       " 'host_neighbourhood',\n",
       " 'host_listings_count',\n",
       " 'host_total_listings_count',\n",
       " 'host_verifications',\n",
       " 'host_has_profile_pic',\n",
       " 'host_identity_verified',\n",
       " 'street',\n",
       " 'neighbourhood',\n",
       " 'neighbourhood_cleansed',\n",
       " 'neighbourhood_group_cleansed',\n",
       " 'city',\n",
       " 'state',\n",
       " 'zipcode',\n",
       " 'market',\n",
       " 'smart_location',\n",
       " 'country_code',\n",
       " 'country',\n",
       " 'latitude',\n",
       " 'longitude',\n",
       " 'is_location_exact',\n",
       " 'property_type',\n",
       " 'room_type',\n",
       " 'accommodates',\n",
       " 'bathrooms',\n",
       " 'bedrooms',\n",
       " 'beds',\n",
       " 'bed_type',\n",
       " 'amenities',\n",
       " 'square_feet',\n",
       " 'price',\n",
       " 'weekly_price',\n",
       " 'monthly_price',\n",
       " 'security_deposit',\n",
       " 'cleaning_fee',\n",
       " 'guests_included',\n",
       " 'extra_people',\n",
       " 'minimum_nights',\n",
       " 'maximum_nights',\n",
       " 'minimum_minimum_nights',\n",
       " 'maximum_minimum_nights',\n",
       " 'minimum_maximum_nights',\n",
       " 'maximum_maximum_nights',\n",
       " 'minimum_nights_avg_ntm',\n",
       " 'maximum_nights_avg_ntm',\n",
       " 'calendar_updated',\n",
       " 'has_availability',\n",
       " 'availability_30',\n",
       " 'availability_60',\n",
       " 'availability_90',\n",
       " 'availability_365',\n",
       " 'calendar_last_scraped',\n",
       " 'number_of_reviews',\n",
       " 'number_of_reviews_ltm',\n",
       " 'first_review',\n",
       " 'last_review',\n",
       " 'review_scores_rating',\n",
       " 'review_scores_accuracy',\n",
       " 'review_scores_cleanliness',\n",
       " 'review_scores_checkin',\n",
       " 'review_scores_communication',\n",
       " 'review_scores_location',\n",
       " 'review_scores_value',\n",
       " 'requires_license',\n",
       " 'license',\n",
       " 'jurisdiction_names',\n",
       " 'instant_bookable',\n",
       " 'is_business_travel_ready',\n",
       " 'cancellation_policy',\n",
       " 'require_guest_profile_picture',\n",
       " 'require_guest_phone_verification',\n",
       " 'calculated_host_listings_count',\n",
       " 'calculated_host_listings_count_entire_homes',\n",
       " 'calculated_host_listings_count_private_rooms',\n",
       " 'calculated_host_listings_count_shared_rooms',\n",
       " 'reviews_per_month']"
      ]
     },
     "execution_count": 23,
     "metadata": {},
     "output_type": "execute_result"
    }
   ],
   "source": [
    "list(data.columns.values)"
   ]
  },
  {
   "cell_type": "markdown",
   "metadata": {},
   "source": [
    "#### 2. Consider how will you handle missing data."
   ]
  },
  {
   "cell_type": "code",
   "execution_count": 7,
   "metadata": {},
   "outputs": [
    {
     "data": {
      "text/plain": [
       "(7540, 106)"
      ]
     },
     "execution_count": 7,
     "metadata": {},
     "output_type": "execute_result"
    }
   ],
   "source": [
    "data.shape"
   ]
  },
  {
   "cell_type": "code",
   "execution_count": 8,
   "metadata": {},
   "outputs": [
    {
     "data": {
      "text/plain": [
       "name                              1\n",
       "summary                         143\n",
       "space                          1469\n",
       "description                      49\n",
       "neighborhood_overview          2138\n",
       "notes                          3100\n",
       "transit                        2242\n",
       "access                         2522\n",
       "interaction                    1954\n",
       "house_rules                    1744\n",
       "thumbnail_url                  7540\n",
       "medium_url                     7540\n",
       "xl_picture_url                 7540\n",
       "host_name                         1\n",
       "host_since                        1\n",
       "host_location                    11\n",
       "host_about                     1992\n",
       "host_response_time             1484\n",
       "host_response_rate             1484\n",
       "host_acceptance_rate           7540\n",
       "host_is_superhost                 1\n",
       "host_thumbnail_url                1\n",
       "host_picture_url                  1\n",
       "host_neighbourhood              680\n",
       "host_listings_count               1\n",
       "host_total_listings_count         1\n",
       "host_has_profile_pic              1\n",
       "host_identity_verified            1\n",
       "city                              4\n",
       "state                             2\n",
       "zipcode                         145\n",
       "market                           13\n",
       "bedrooms                          1\n",
       "beds                              3\n",
       "square_feet                    7212\n",
       "weekly_price                   6688\n",
       "monthly_price                  6891\n",
       "security_deposit               1332\n",
       "cleaning_fee                    691\n",
       "first_review                   1087\n",
       "last_review                    1087\n",
       "review_scores_rating           1137\n",
       "review_scores_accuracy         1139\n",
       "review_scores_cleanliness      1139\n",
       "review_scores_checkin          1140\n",
       "review_scores_communication    1138\n",
       "review_scores_location         1140\n",
       "review_scores_value            1139\n",
       "license                        6004\n",
       "reviews_per_month              1087\n",
       "dtype: int64"
      ]
     },
     "execution_count": 8,
     "metadata": {},
     "output_type": "execute_result"
    }
   ],
   "source": [
    "null_columns = data.columns[data.isnull().any()]\n",
    "data[null_columns].isnull().sum()"
   ]
  },
  {
   "cell_type": "markdown",
   "metadata": {},
   "source": [
    "Drop missing data by passing 'missing=drop' parameter when using statsmodels"
   ]
  },
  {
   "cell_type": "markdown",
   "metadata": {},
   "source": [
    "#### 3. Consider which variables you are going to use below."
   ]
  },
  {
   "cell_type": "markdown",
   "metadata": {},
   "source": [
    "\n",
    "bedrooms\n",
    "\n",
    "bathrooms\n",
    "\n",
    "cleaning_fee\n",
    "\n",
    "review_scores_rating\n",
    "\n",
    "security_deposit"
   ]
  },
  {
   "cell_type": "markdown",
   "metadata": {},
   "source": [
    "## 2. Model (60pt)\n",
    "\n",
    "#### 1. Either split your data into training and validation sets, or just use cross validation below."
   ]
  },
  {
   "cell_type": "code",
   "execution_count": 9,
   "metadata": {},
   "outputs": [],
   "source": [
    "val = data[:-1000]\n",
    "data = data[-1000:]"
   ]
  },
  {
   "cell_type": "markdown",
   "metadata": {},
   "source": [
    "#### 2. Develop the models. Report all the variables and how do you clean/encode those. While the exact details are visible in the code, explain the broad choices in text."
   ]
  },
  {
   "cell_type": "code",
   "execution_count": 28,
   "metadata": {},
   "outputs": [],
   "source": [
    "# this function takes in a string representing a dollar amount\n",
    "# it returns the amount as a float, or returns NaN if it was already NaN\n",
    "def clean_dollars(s):\n",
    "    if type(s) == type(\"\"):\n",
    "        return float(s[s.index(\"$\")+1:].replace(\",\", \"\"))\n",
    "    return s\n",
    "\n",
    "# extracting columns\n",
    "data = data[[\"price\", \"security_deposit\", \"bedrooms\", \"bathrooms\", \"cleaning_fee\", \"review_scores_rating\"]]\n",
    "val = val[[\"price\", \"security_deposit\", \"bedrooms\", \"bathrooms\", \"cleaning_fee\", \"review_scores_rating\"]]\n",
    "\n",
    "# cleaning extracted columns in data\n",
    "data[\"price\"] = list(map(clean_dollars, data[\"price\"]))\n",
    "data[\"security_deposit\"] = list(map(clean_dollars, data[\"security_deposit\"]))\n",
    "data[\"cleaning_fee\"] = list(map(clean_dollars, data[\"cleaning_fee\"]))\n",
    "\n",
    "# cleaning extracted columns in validation data\n",
    "val[\"price\"] = list(map(clean_dollars, val[\"price\"]))\n",
    "val[\"security_deposit\"] = list(map(clean_dollars, val[\"security_deposit\"]))\n",
    "val[\"cleaning_fee\"] = list(map(clean_dollars, val[\"cleaning_fee\"]))"
   ]
  },
  {
   "cell_type": "markdown",
   "metadata": {},
   "source": [
    "#### 3. Report the final number of observations, the estimated coefficient values, adjusted R2, and RMSE set (or k-fold CV) for three models:\n",
    "#### (a) a simple one that only contains a few most important variables/best predictors. What do you think are 2-3 best predictors in the data?\n",
    "#### (b) the full model: everything you consider useful.\n",
    "#### (c) something in between."
   ]
  },
  {
   "cell_type": "markdown",
   "metadata": {},
   "source": [
    "### Few variables"
   ]
  },
  {
   "cell_type": "code",
   "execution_count": 11,
   "metadata": {},
   "outputs": [
    {
     "name": "stdout",
     "output_type": "stream",
     "text": [
      "                            OLS Regression Results                            \n",
      "==============================================================================\n",
      "Dep. Variable:                  price   R-squared:                       0.035\n",
      "Model:                            OLS   Adj. R-squared:                  0.032\n",
      "Method:                 Least Squares   F-statistic:                     14.00\n",
      "Date:                Thu, 05 Dec 2019   Prob (F-statistic):           1.06e-06\n",
      "Time:                        10:39:59   Log-Likelihood:                -5031.8\n",
      "No. Observations:                 780   AIC:                         1.007e+04\n",
      "Df Residuals:                     777   BIC:                         1.008e+04\n",
      "Df Model:                           2                                         \n",
      "Covariance Type:            nonrobust                                         \n",
      "====================================================================================\n",
      "                       coef    std err          t      P>|t|      [0.025      0.975]\n",
      "------------------------------------------------------------------------------------\n",
      "Intercept          125.5954      8.502     14.773      0.000     108.907     142.284\n",
      "security_deposit     0.0129      0.014      0.939      0.348      -0.014       0.040\n",
      "cleaning_fee         0.2910      0.063      4.651      0.000       0.168       0.414\n",
      "==============================================================================\n",
      "Omnibus:                      833.232   Durbin-Watson:                   1.366\n",
      "Prob(Omnibus):                  0.000   Jarque-Bera (JB):            50057.108\n",
      "Skew:                           5.059   Prob(JB):                         0.00\n",
      "Kurtosis:                      40.919   Cond. No.                         782.\n",
      "==============================================================================\n",
      "\n",
      "Warnings:\n",
      "[1] Standard Errors assume that the covariance matrix of the errors is correctly specified. \n",
      "\n",
      "RMSE: 153.25507230949162\n"
     ]
    }
   ],
   "source": [
    "m1 = smf.ols(formula = 'price ~ security_deposit + cleaning_fee',\n",
    "             data=data, missing='drop').fit()\n",
    "print(m1.summary(), \"\\n\")\n",
    "\n",
    "m1_yhat = m1.predict(data)\n",
    "m1_RMSE = rmse(m1_yhat, data.price)\n",
    "print(f\"RMSE: {m1_RMSE}\")"
   ]
  },
  {
   "cell_type": "markdown",
   "metadata": {},
   "source": [
    "### Something In Between"
   ]
  },
  {
   "cell_type": "code",
   "execution_count": 12,
   "metadata": {
    "scrolled": false
   },
   "outputs": [
    {
     "name": "stdout",
     "output_type": "stream",
     "text": [
      "                            OLS Regression Results                            \n",
      "==============================================================================\n",
      "Dep. Variable:                  price   R-squared:                       0.090\n",
      "Model:                            OLS   Adj. R-squared:                  0.083\n",
      "Method:                 Least Squares   F-statistic:                     13.38\n",
      "Date:                Thu, 05 Dec 2019   Prob (F-statistic):           2.41e-08\n",
      "Time:                        10:39:59   Log-Likelihood:                -2618.7\n",
      "No. Observations:                 412   AIC:                             5245.\n",
      "Df Residuals:                     408   BIC:                             5261.\n",
      "Df Model:                           3                                         \n",
      "Covariance Type:            nonrobust                                         \n",
      "========================================================================================\n",
      "                           coef    std err          t      P>|t|      [0.025      0.975]\n",
      "----------------------------------------------------------------------------------------\n",
      "Intercept              218.9973     69.535      3.149      0.002      82.305     355.690\n",
      "security_deposit         0.0208      0.019      1.101      0.271      -0.016       0.058\n",
      "cleaning_fee             0.7046      0.123      5.725      0.000       0.463       0.946\n",
      "review_scores_rating    -1.1897      0.739     -1.610      0.108      -2.642       0.263\n",
      "==============================================================================\n",
      "Omnibus:                      377.287   Durbin-Watson:                   1.194\n",
      "Prob(Omnibus):                  0.000   Jarque-Bera (JB):             8303.657\n",
      "Skew:                           4.022   Prob(JB):                         0.00\n",
      "Kurtosis:                      23.470   Cond. No.                     4.29e+03\n",
      "==============================================================================\n",
      "\n",
      "Warnings:\n",
      "[1] Standard Errors assume that the covariance matrix of the errors is correctly specified.\n",
      "[2] The condition number is large, 4.29e+03. This might indicate that there are\n",
      "strong multicollinearity or other numerical problems. \n",
      "\n",
      "RMSE: 139.36198106195982\n"
     ]
    }
   ],
   "source": [
    "m2 = smf.ols(formula = 'price ~ security_deposit + cleaning_fee + review_scores_rating',\n",
    "             data=data, missing='drop').fit()\n",
    "print(m2.summary(), \"\\n\")\n",
    "\n",
    "m2_yhat = m2.predict(data)\n",
    "m2_RMSE = rmse(m2_yhat, data.price)\n",
    "print(f\"RMSE: {m2_RMSE}\")"
   ]
  },
  {
   "cell_type": "markdown",
   "metadata": {},
   "source": [
    "### All variables"
   ]
  },
  {
   "cell_type": "code",
   "execution_count": 13,
   "metadata": {},
   "outputs": [
    {
     "name": "stdout",
     "output_type": "stream",
     "text": [
      "                            OLS Regression Results                            \n",
      "==============================================================================\n",
      "Dep. Variable:                  price   R-squared:                       0.128\n",
      "Model:                            OLS   Adj. R-squared:                  0.118\n",
      "Method:                 Least Squares   F-statistic:                     11.96\n",
      "Date:                Thu, 05 Dec 2019   Prob (F-statistic):           8.14e-11\n",
      "Time:                        10:39:59   Log-Likelihood:                -2609.7\n",
      "No. Observations:                 412   AIC:                             5231.\n",
      "Df Residuals:                     406   BIC:                             5256.\n",
      "Df Model:                           5                                         \n",
      "Covariance Type:            nonrobust                                         \n",
      "========================================================================================\n",
      "                           coef    std err          t      P>|t|      [0.025      0.975]\n",
      "----------------------------------------------------------------------------------------\n",
      "Intercept              183.2277     69.789      2.625      0.009      46.035     320.420\n",
      "security_deposit         0.0186      0.019      0.995      0.320      -0.018       0.055\n",
      "bedrooms                20.5506      9.031      2.276      0.023       2.797      38.304\n",
      "bathrooms               32.8718     16.919      1.943      0.053      -0.388      66.131\n",
      "cleaning_fee             0.4083      0.140      2.925      0.004       0.134       0.683\n",
      "review_scores_rating    -1.3060      0.727     -1.797      0.073      -2.735       0.123\n",
      "==============================================================================\n",
      "Omnibus:                      398.025   Durbin-Watson:                   1.144\n",
      "Prob(Omnibus):                  0.000   Jarque-Bera (JB):            10416.146\n",
      "Skew:                           4.295   Prob(JB):                         0.00\n",
      "Kurtosis:                      26.086   Cond. No.                     4.39e+03\n",
      "==============================================================================\n",
      "\n",
      "Warnings:\n",
      "[1] Standard Errors assume that the covariance matrix of the errors is correctly specified.\n",
      "[2] The condition number is large, 4.39e+03. This might indicate that there are\n",
      "strong multicollinearity or other numerical problems. \n",
      "\n",
      "RMSE: 136.35703814446032\n"
     ]
    }
   ],
   "source": [
    "m3 = smf.ols(formula = 'price ~ security_deposit + bedrooms + bathrooms + cleaning_fee + review_scores_rating',\n",
    "             data=data, missing='drop').fit()\n",
    "print(m3.summary(), \"\\n\")\n",
    "\n",
    "m3_yhat = m3.predict(data)\n",
    "m3_RMSE = rmse(m3_yhat, data.price)\n",
    "print(f\"RMSE: {m3_RMSE}\")"
   ]
  },
  {
   "cell_type": "markdown",
   "metadata": {},
   "source": [
    "#### 4. Interpret the coefficients of the reported models. Again, only interpret the most interesting/important ones, not all of those! Do the coefficient values differ between the models? Can you explain why?"
   ]
  },
  {
   "cell_type": "markdown",
   "metadata": {},
   "source": [
    "It appears that the Bedrooms and Bathrooms have a big impact on price. This would be expected as Squar footage is normally a strong determinante for an expected price. While cleaning fees, reviews, and security deposit seem to have little effect.  "
   ]
  },
  {
   "cell_type": "markdown",
   "metadata": {},
   "source": [
    "#### 5. Use your models to predict the price. Report RMSE in the table above."
   ]
  },
  {
   "cell_type": "code",
   "execution_count": 14,
   "metadata": {},
   "outputs": [
    {
     "name": "stdout",
     "output_type": "stream",
     "text": [
      "RMSE: 136.35703814446032\n"
     ]
    }
   ],
   "source": [
    "m3.summary()\n",
    "m3_yhat = m3.predict(data)\n",
    "m3_RMSE = rmse(m3_yhat, data.price)\n",
    "print(f\"RMSE: {m3_RMSE}\")"
   ]
  },
  {
   "cell_type": "markdown",
   "metadata": {},
   "source": [
    "### 3. Think (15pt)"
   ]
  },
  {
   "cell_type": "markdown",
   "metadata": {},
   "source": [
    "#### 1. Does your model do a good job in predicting the price?"
   ]
  },
  {
   "cell_type": "markdown",
   "metadata": {},
   "source": [
    "Yes, we think it does predict the price fairly well as the predicted y is exactly the same to the coefficient values. \n"
   ]
  },
  {
   "cell_type": "markdown",
   "metadata": {},
   "source": [
    "#### 2. Can your results be used for something interesting, say for research or commercial purposes? What might it be?"
   ]
  },
  {
   "cell_type": "markdown",
   "metadata": {},
   "source": [
    "Commercial purposes- This could be useful for hotel chains if they are looking at building a new hotel in an area. They can see what a competitive rate would be, and could build accordingly. Travel agents and airlines could use this data to create travel packages. \n",
    "\n",
    "Research purposes- Universities could look at housing trends and see what kind of effect this might have on local economies and housing markets. City goverments could take necessary actions to perhaps limit negative effects of the airbnb market."
   ]
  },
  {
   "cell_type": "markdown",
   "metadata": {},
   "source": [
    "#### 3. You were predicting the price. Did you include any other price-related variables, such as weekly price or security deposit in your model? What would that mean in terms of the model usablity?"
   ]
  },
  {
   "cell_type": "markdown",
   "metadata": {},
   "source": [
    "Using price-related variables can sometimes have reverse effects. Security deposits weekly prices might change drastically from a daily price. This is often done to entice longer-term rentals if, for example the weekly price is quoted at a cheaper daily rate. This could have unintended effects on the daily expected price."
   ]
  },
  {
   "cell_type": "markdown",
   "metadata": {},
   "source": [
    "#### 4. imagine you are developing this work for a local, or for the national government. Why may government be interested in such a job? Do you see any ethical issues that may rise from your work?"
   ]
  },
  {
   "cell_type": "markdown",
   "metadata": {},
   "source": [
    "This could potentially be discriminating against Airbnb if local governments can use this data to prove that homeownership and normal rentals are being driven out of the market in favor of a higher-profit Airbnb model. Politics aside, this could be damaging to that business model. Otherwise local governments are interested in property values and census data affecting their districts. If there is the chance that fewer people will be living in their district, in other words favoring the Airbnb model, politicians might see this as disadvantageous to their re-election chances and might want to limit Airbnb and/or favor lower-income housing."
   ]
  },
  {
   "cell_type": "markdown",
   "metadata": {},
   "source": [
    "## 4. Additional task (10pt)"
   ]
  },
  {
   "cell_type": "markdown",
   "metadata": {},
   "source": [
    "#### 1. Load the testing data arbnb-seattle-listings-test.csv. This has exactly the same structure and variables as the original dataset."
   ]
  },
  {
   "cell_type": "code",
   "execution_count": null,
   "metadata": {},
   "outputs": [],
   "source": []
  },
  {
   "cell_type": "markdown",
   "metadata": {},
   "source": [
    "#### 2. Compute RMSE on the testing dataset. This is the ultimate goodness measure of your model. Present it prominently in your report."
   ]
  },
  {
   "cell_type": "code",
   "execution_count": null,
   "metadata": {},
   "outputs": [],
   "source": []
  },
  {
   "cell_type": "markdown",
   "metadata": {},
   "source": [
    "#### 3. Do not tinker with the model any more. This was your final test."
   ]
  }
 ],
 "metadata": {
  "kernelspec": {
   "display_name": "Python 3",
   "language": "python",
   "name": "python3"
  },
  "language_info": {
   "codemirror_mode": {
    "name": "ipython",
    "version": 3
   },
   "file_extension": ".py",
   "mimetype": "text/x-python",
   "name": "python",
   "nbconvert_exporter": "python",
   "pygments_lexer": "ipython3",
   "version": "3.6.5"
  }
 },
 "nbformat": 4,
 "nbformat_minor": 2
}
