{
 "cells": [
  {
   "cell_type": "markdown",
   "metadata": {},
   "source": [
    "# Problem Set 6: Linear Regression\n",
    "\n",
    "### Alex Davis, Jeeyoung Kim, Rafi Bayer, Scarlett Hwang\n",
    "\n",
    "\n",
    "(Due on Thu, Dec 5th 5pm)"
   ]
  },
  {
   "cell_type": "code",
   "execution_count": 38,
   "metadata": {},
   "outputs": [],
   "source": [
    "import numpy as np\n",
    "import pandas as pd  \n",
    "import statsmodels.formula.api as smf\n",
    "import sklearn.linear_model as slm\n",
    "import matplotlib.pyplot as plt"
   ]
  },
  {
   "cell_type": "markdown",
   "metadata": {},
   "source": [
    "## 1. Data description (15pt)\n",
    "\n",
    "#### 1. Load the data airbnb-seattle-listings-train.csv. Broadly describe the variables you see, their encoding, and discuss if these may be valuable in determining the price."
   ]
  },
  {
   "cell_type": "code",
   "execution_count": 39,
   "metadata": {},
   "outputs": [],
   "source": [
    "data = pd.read_csv('airbnb-seattle-listings-train.csv', sep='\\t')"
   ]
  },
  {
   "cell_type": "code",
   "execution_count": 40,
   "metadata": {},
   "outputs": [
    {
     "data": {
      "text/html": [
       "<div>\n",
       "<style scoped>\n",
       "    .dataframe tbody tr th:only-of-type {\n",
       "        vertical-align: middle;\n",
       "    }\n",
       "\n",
       "    .dataframe tbody tr th {\n",
       "        vertical-align: top;\n",
       "    }\n",
       "\n",
       "    .dataframe thead th {\n",
       "        text-align: right;\n",
       "    }\n",
       "</style>\n",
       "<table border=\"1\" class=\"dataframe\">\n",
       "  <thead>\n",
       "    <tr style=\"text-align: right;\">\n",
       "      <th></th>\n",
       "      <th>id</th>\n",
       "      <th>listing_url</th>\n",
       "      <th>scrape_id</th>\n",
       "      <th>last_scraped</th>\n",
       "      <th>name</th>\n",
       "      <th>summary</th>\n",
       "      <th>space</th>\n",
       "      <th>description</th>\n",
       "      <th>experiences_offered</th>\n",
       "      <th>neighborhood_overview</th>\n",
       "      <th>...</th>\n",
       "      <th>instant_bookable</th>\n",
       "      <th>is_business_travel_ready</th>\n",
       "      <th>cancellation_policy</th>\n",
       "      <th>require_guest_profile_picture</th>\n",
       "      <th>require_guest_phone_verification</th>\n",
       "      <th>calculated_host_listings_count</th>\n",
       "      <th>calculated_host_listings_count_entire_homes</th>\n",
       "      <th>calculated_host_listings_count_private_rooms</th>\n",
       "      <th>calculated_host_listings_count_shared_rooms</th>\n",
       "      <th>reviews_per_month</th>\n",
       "    </tr>\n",
       "  </thead>\n",
       "  <tbody>\n",
       "    <tr>\n",
       "      <th>0</th>\n",
       "      <td>2318</td>\n",
       "      <td>https://www.airbnb.com/rooms/2318</td>\n",
       "      <td>20190922030624</td>\n",
       "      <td>2019-09-22</td>\n",
       "      <td>Casa Madrona - Urban Oasis 1 block from the park!</td>\n",
       "      <td>Gorgeous, architect remodeled, 1917 Dutch Colo...</td>\n",
       "      <td>Casa Madrona is a gorgeous, architect remodele...</td>\n",
       "      <td>Gorgeous, architect remodeled, 1917 Dutch Colo...</td>\n",
       "      <td>none</td>\n",
       "      <td>Madrona is a hidden gem of a neighborhood. It ...</td>\n",
       "      <td>...</td>\n",
       "      <td>f</td>\n",
       "      <td>f</td>\n",
       "      <td>strict_14_with_grace_period</td>\n",
       "      <td>f</td>\n",
       "      <td>f</td>\n",
       "      <td>2</td>\n",
       "      <td>2</td>\n",
       "      <td>0</td>\n",
       "      <td>0</td>\n",
       "      <td>0.21</td>\n",
       "    </tr>\n",
       "    <tr>\n",
       "      <th>1</th>\n",
       "      <td>5682</td>\n",
       "      <td>https://www.airbnb.com/rooms/5682</td>\n",
       "      <td>20190922030624</td>\n",
       "      <td>2019-09-22</td>\n",
       "      <td>Cozy Studio, min. to downtown -WiFi</td>\n",
       "      <td>The Cozy Studio is a perfect launchpad for you...</td>\n",
       "      <td>Hello fellow travelers, Save some money and ha...</td>\n",
       "      <td>The Cozy Studio is a perfect launchpad for you...</td>\n",
       "      <td>none</td>\n",
       "      <td>NaN</td>\n",
       "      <td>...</td>\n",
       "      <td>f</td>\n",
       "      <td>f</td>\n",
       "      <td>strict_14_with_grace_period</td>\n",
       "      <td>f</td>\n",
       "      <td>t</td>\n",
       "      <td>1</td>\n",
       "      <td>1</td>\n",
       "      <td>0</td>\n",
       "      <td>0</td>\n",
       "      <td>3.99</td>\n",
       "    </tr>\n",
       "    <tr>\n",
       "      <th>2</th>\n",
       "      <td>9419</td>\n",
       "      <td>https://www.airbnb.com/rooms/9419</td>\n",
       "      <td>20190922030624</td>\n",
       "      <td>2019-09-22</td>\n",
       "      <td>Glorious sun room w/ memory foambed</td>\n",
       "      <td>This beautiful double room features a magical ...</td>\n",
       "      <td>Our new Sunny space has a private room from th...</td>\n",
       "      <td>This beautiful double room features a magical ...</td>\n",
       "      <td>none</td>\n",
       "      <td>Lots of restaurants (see our guide book) bars,...</td>\n",
       "      <td>...</td>\n",
       "      <td>f</td>\n",
       "      <td>f</td>\n",
       "      <td>moderate</td>\n",
       "      <td>t</td>\n",
       "      <td>t</td>\n",
       "      <td>8</td>\n",
       "      <td>0</td>\n",
       "      <td>8</td>\n",
       "      <td>0</td>\n",
       "      <td>1.29</td>\n",
       "    </tr>\n",
       "    <tr>\n",
       "      <th>3</th>\n",
       "      <td>9460</td>\n",
       "      <td>https://www.airbnb.com/rooms/9460</td>\n",
       "      <td>20190922030624</td>\n",
       "      <td>2019-09-22</td>\n",
       "      <td>Downtown Convention Center B&amp;B -- Free Minibar</td>\n",
       "      <td>Take up a glass of wine and unwind on one of t...</td>\n",
       "      <td>Greetings from Seattle. Thanks for considering...</td>\n",
       "      <td>Take up a glass of wine and unwind on one of t...</td>\n",
       "      <td>none</td>\n",
       "      <td>The apartment is situated at the intersection ...</td>\n",
       "      <td>...</td>\n",
       "      <td>t</td>\n",
       "      <td>f</td>\n",
       "      <td>moderate</td>\n",
       "      <td>f</td>\n",
       "      <td>f</td>\n",
       "      <td>4</td>\n",
       "      <td>3</td>\n",
       "      <td>1</td>\n",
       "      <td>0</td>\n",
       "      <td>3.62</td>\n",
       "    </tr>\n",
       "    <tr>\n",
       "      <th>4</th>\n",
       "      <td>9531</td>\n",
       "      <td>https://www.airbnb.com/rooms/9531</td>\n",
       "      <td>20190922030624</td>\n",
       "      <td>2019-09-22</td>\n",
       "      <td>The Adorable Sweet Orange Craftsman</td>\n",
       "      <td>The Sweet Orange is a delightful and spacious ...</td>\n",
       "      <td>The Sweet Orange invites you to stay and play,...</td>\n",
       "      <td>The Sweet Orange is a delightful and spacious ...</td>\n",
       "      <td>none</td>\n",
       "      <td>The neighborhood is awesome!  Just far enough ...</td>\n",
       "      <td>...</td>\n",
       "      <td>f</td>\n",
       "      <td>f</td>\n",
       "      <td>strict_14_with_grace_period</td>\n",
       "      <td>f</td>\n",
       "      <td>t</td>\n",
       "      <td>2</td>\n",
       "      <td>2</td>\n",
       "      <td>0</td>\n",
       "      <td>0</td>\n",
       "      <td>0.39</td>\n",
       "    </tr>\n",
       "  </tbody>\n",
       "</table>\n",
       "<p>5 rows × 106 columns</p>\n",
       "</div>"
      ],
      "text/plain": [
       "     id                        listing_url       scrape_id last_scraped  \\\n",
       "0  2318  https://www.airbnb.com/rooms/2318  20190922030624   2019-09-22   \n",
       "1  5682  https://www.airbnb.com/rooms/5682  20190922030624   2019-09-22   \n",
       "2  9419  https://www.airbnb.com/rooms/9419  20190922030624   2019-09-22   \n",
       "3  9460  https://www.airbnb.com/rooms/9460  20190922030624   2019-09-22   \n",
       "4  9531  https://www.airbnb.com/rooms/9531  20190922030624   2019-09-22   \n",
       "\n",
       "                                                name  \\\n",
       "0  Casa Madrona - Urban Oasis 1 block from the park!   \n",
       "1                Cozy Studio, min. to downtown -WiFi   \n",
       "2                Glorious sun room w/ memory foambed   \n",
       "3     Downtown Convention Center B&B -- Free Minibar   \n",
       "4                The Adorable Sweet Orange Craftsman   \n",
       "\n",
       "                                             summary  \\\n",
       "0  Gorgeous, architect remodeled, 1917 Dutch Colo...   \n",
       "1  The Cozy Studio is a perfect launchpad for you...   \n",
       "2  This beautiful double room features a magical ...   \n",
       "3  Take up a glass of wine and unwind on one of t...   \n",
       "4  The Sweet Orange is a delightful and spacious ...   \n",
       "\n",
       "                                               space  \\\n",
       "0  Casa Madrona is a gorgeous, architect remodele...   \n",
       "1  Hello fellow travelers, Save some money and ha...   \n",
       "2  Our new Sunny space has a private room from th...   \n",
       "3  Greetings from Seattle. Thanks for considering...   \n",
       "4  The Sweet Orange invites you to stay and play,...   \n",
       "\n",
       "                                         description experiences_offered  \\\n",
       "0  Gorgeous, architect remodeled, 1917 Dutch Colo...                none   \n",
       "1  The Cozy Studio is a perfect launchpad for you...                none   \n",
       "2  This beautiful double room features a magical ...                none   \n",
       "3  Take up a glass of wine and unwind on one of t...                none   \n",
       "4  The Sweet Orange is a delightful and spacious ...                none   \n",
       "\n",
       "                               neighborhood_overview  ... instant_bookable  \\\n",
       "0  Madrona is a hidden gem of a neighborhood. It ...  ...                f   \n",
       "1                                                NaN  ...                f   \n",
       "2  Lots of restaurants (see our guide book) bars,...  ...                f   \n",
       "3  The apartment is situated at the intersection ...  ...                t   \n",
       "4  The neighborhood is awesome!  Just far enough ...  ...                f   \n",
       "\n",
       "  is_business_travel_ready          cancellation_policy  \\\n",
       "0                        f  strict_14_with_grace_period   \n",
       "1                        f  strict_14_with_grace_period   \n",
       "2                        f                     moderate   \n",
       "3                        f                     moderate   \n",
       "4                        f  strict_14_with_grace_period   \n",
       "\n",
       "  require_guest_profile_picture require_guest_phone_verification  \\\n",
       "0                             f                                f   \n",
       "1                             f                                t   \n",
       "2                             t                                t   \n",
       "3                             f                                f   \n",
       "4                             f                                t   \n",
       "\n",
       "   calculated_host_listings_count  \\\n",
       "0                               2   \n",
       "1                               1   \n",
       "2                               8   \n",
       "3                               4   \n",
       "4                               2   \n",
       "\n",
       "   calculated_host_listings_count_entire_homes  \\\n",
       "0                                            2   \n",
       "1                                            1   \n",
       "2                                            0   \n",
       "3                                            3   \n",
       "4                                            2   \n",
       "\n",
       "  calculated_host_listings_count_private_rooms  \\\n",
       "0                                            0   \n",
       "1                                            0   \n",
       "2                                            8   \n",
       "3                                            1   \n",
       "4                                            0   \n",
       "\n",
       "   calculated_host_listings_count_shared_rooms  reviews_per_month  \n",
       "0                                            0               0.21  \n",
       "1                                            0               3.99  \n",
       "2                                            0               1.29  \n",
       "3                                            0               3.62  \n",
       "4                                            0               0.39  \n",
       "\n",
       "[5 rows x 106 columns]"
      ]
     },
     "execution_count": 40,
     "metadata": {},
     "output_type": "execute_result"
    }
   ],
   "source": [
    "data.head()"
   ]
  },
  {
   "cell_type": "code",
   "execution_count": 41,
   "metadata": {},
   "outputs": [
    {
     "data": {
      "text/plain": [
       "['id',\n",
       " 'listing_url',\n",
       " 'scrape_id',\n",
       " 'last_scraped',\n",
       " 'name',\n",
       " 'summary',\n",
       " 'space',\n",
       " 'description',\n",
       " 'experiences_offered',\n",
       " 'neighborhood_overview',\n",
       " 'notes',\n",
       " 'transit',\n",
       " 'access',\n",
       " 'interaction',\n",
       " 'house_rules',\n",
       " 'thumbnail_url',\n",
       " 'medium_url',\n",
       " 'picture_url',\n",
       " 'xl_picture_url',\n",
       " 'host_id',\n",
       " 'host_url',\n",
       " 'host_name',\n",
       " 'host_since',\n",
       " 'host_location',\n",
       " 'host_about',\n",
       " 'host_response_time',\n",
       " 'host_response_rate',\n",
       " 'host_acceptance_rate',\n",
       " 'host_is_superhost',\n",
       " 'host_thumbnail_url',\n",
       " 'host_picture_url',\n",
       " 'host_neighbourhood',\n",
       " 'host_listings_count',\n",
       " 'host_total_listings_count',\n",
       " 'host_verifications',\n",
       " 'host_has_profile_pic',\n",
       " 'host_identity_verified',\n",
       " 'street',\n",
       " 'neighbourhood',\n",
       " 'neighbourhood_cleansed',\n",
       " 'neighbourhood_group_cleansed',\n",
       " 'city',\n",
       " 'state',\n",
       " 'zipcode',\n",
       " 'market',\n",
       " 'smart_location',\n",
       " 'country_code',\n",
       " 'country',\n",
       " 'latitude',\n",
       " 'longitude',\n",
       " 'is_location_exact',\n",
       " 'property_type',\n",
       " 'room_type',\n",
       " 'accommodates',\n",
       " 'bathrooms',\n",
       " 'bedrooms',\n",
       " 'beds',\n",
       " 'bed_type',\n",
       " 'amenities',\n",
       " 'square_feet',\n",
       " 'price',\n",
       " 'weekly_price',\n",
       " 'monthly_price',\n",
       " 'security_deposit',\n",
       " 'cleaning_fee',\n",
       " 'guests_included',\n",
       " 'extra_people',\n",
       " 'minimum_nights',\n",
       " 'maximum_nights',\n",
       " 'minimum_minimum_nights',\n",
       " 'maximum_minimum_nights',\n",
       " 'minimum_maximum_nights',\n",
       " 'maximum_maximum_nights',\n",
       " 'minimum_nights_avg_ntm',\n",
       " 'maximum_nights_avg_ntm',\n",
       " 'calendar_updated',\n",
       " 'has_availability',\n",
       " 'availability_30',\n",
       " 'availability_60',\n",
       " 'availability_90',\n",
       " 'availability_365',\n",
       " 'calendar_last_scraped',\n",
       " 'number_of_reviews',\n",
       " 'number_of_reviews_ltm',\n",
       " 'first_review',\n",
       " 'last_review',\n",
       " 'review_scores_rating',\n",
       " 'review_scores_accuracy',\n",
       " 'review_scores_cleanliness',\n",
       " 'review_scores_checkin',\n",
       " 'review_scores_communication',\n",
       " 'review_scores_location',\n",
       " 'review_scores_value',\n",
       " 'requires_license',\n",
       " 'license',\n",
       " 'jurisdiction_names',\n",
       " 'instant_bookable',\n",
       " 'is_business_travel_ready',\n",
       " 'cancellation_policy',\n",
       " 'require_guest_profile_picture',\n",
       " 'require_guest_phone_verification',\n",
       " 'calculated_host_listings_count',\n",
       " 'calculated_host_listings_count_entire_homes',\n",
       " 'calculated_host_listings_count_private_rooms',\n",
       " 'calculated_host_listings_count_shared_rooms',\n",
       " 'reviews_per_month']"
      ]
     },
     "execution_count": 41,
     "metadata": {},
     "output_type": "execute_result"
    }
   ],
   "source": [
    "list(data.columns.values)"
   ]
  },
  {
   "cell_type": "markdown",
   "metadata": {},
   "source": [
    "#### 2. Consider how will you handle missing data."
   ]
  },
  {
   "cell_type": "code",
   "execution_count": 42,
   "metadata": {},
   "outputs": [
    {
     "data": {
      "text/plain": [
       "(7540, 106)"
      ]
     },
     "execution_count": 42,
     "metadata": {},
     "output_type": "execute_result"
    }
   ],
   "source": [
    "data.shape"
   ]
  },
  {
   "cell_type": "code",
   "execution_count": 43,
   "metadata": {},
   "outputs": [
    {
     "data": {
      "text/plain": [
       "name                              1\n",
       "summary                         143\n",
       "space                          1469\n",
       "description                      49\n",
       "neighborhood_overview          2138\n",
       "notes                          3100\n",
       "transit                        2242\n",
       "access                         2522\n",
       "interaction                    1954\n",
       "house_rules                    1744\n",
       "thumbnail_url                  7540\n",
       "medium_url                     7540\n",
       "xl_picture_url                 7540\n",
       "host_name                         1\n",
       "host_since                        1\n",
       "host_location                    11\n",
       "host_about                     1992\n",
       "host_response_time             1484\n",
       "host_response_rate             1484\n",
       "host_acceptance_rate           7540\n",
       "host_is_superhost                 1\n",
       "host_thumbnail_url                1\n",
       "host_picture_url                  1\n",
       "host_neighbourhood              680\n",
       "host_listings_count               1\n",
       "host_total_listings_count         1\n",
       "host_has_profile_pic              1\n",
       "host_identity_verified            1\n",
       "city                              4\n",
       "state                             2\n",
       "zipcode                         145\n",
       "market                           13\n",
       "bedrooms                          1\n",
       "beds                              3\n",
       "square_feet                    7212\n",
       "weekly_price                   6688\n",
       "monthly_price                  6891\n",
       "security_deposit               1332\n",
       "cleaning_fee                    691\n",
       "first_review                   1087\n",
       "last_review                    1087\n",
       "review_scores_rating           1137\n",
       "review_scores_accuracy         1139\n",
       "review_scores_cleanliness      1139\n",
       "review_scores_checkin          1140\n",
       "review_scores_communication    1138\n",
       "review_scores_location         1140\n",
       "review_scores_value            1139\n",
       "license                        6004\n",
       "reviews_per_month              1087\n",
       "dtype: int64"
      ]
     },
     "execution_count": 43,
     "metadata": {},
     "output_type": "execute_result"
    }
   ],
   "source": [
    "null_columns = data.columns[data.isnull().any()]\n",
    "data[null_columns].isnull().sum()"
   ]
  },
  {
   "cell_type": "markdown",
   "metadata": {},
   "source": [
    "Drop missing data by passing 'missing=drop' parameter when using statsmodels"
   ]
  },
  {
   "cell_type": "markdown",
   "metadata": {},
   "source": [
    "#### 3. Consider which variables you are going to use below."
   ]
  },
  {
   "cell_type": "markdown",
   "metadata": {},
   "source": [
    "\n",
    "bedrooms\n",
    "\n",
    "bathrooms\n",
    "\n",
    "cleaning_fee\n",
    "\n",
    "review_scores_rating\n",
    "\n",
    "security_deposit"
   ]
  },
  {
   "cell_type": "markdown",
   "metadata": {},
   "source": [
    "## 2. Model (60pt)\n",
    "\n",
    "#### 1. Either split your data into training and validation sets, or just use cross validation below."
   ]
  },
  {
   "cell_type": "code",
   "execution_count": 44,
   "metadata": {},
   "outputs": [],
   "source": [
    "val = data[:-1000]\n",
    "data = data[-1000:]"
   ]
  },
  {
   "cell_type": "markdown",
   "metadata": {},
   "source": [
    "#### 2. Develop the models. Report all the variables and how do you clean/encode those. While the exact details are visible in the code, explain the broad choices in text."
   ]
  },
  {
   "cell_type": "code",
   "execution_count": 45,
   "metadata": {},
   "outputs": [],
   "source": [
    "# this function takes in a string representing a dollar amount\n",
    "# it returns the amount as a float, or returns NaN if it was already NaN\n",
    "def clean_dollars(s):\n",
    "    if type(s) == type(\"\"):\n",
    "        return float(s[s.index(\"$\")+1:].replace(\",\", \"\"))\n",
    "    return s\n",
    "\n",
    "# extracting columns\n",
    "data = data[[\"price\", \"security_deposit\", \"bedrooms\", \"bathrooms\", \"cleaning_fee\", \"review_scores_rating\"]]\n",
    "val = val[[\"price\", \"security_deposit\", \"bedrooms\", \"bathrooms\", \"cleaning_fee\", \"review_scores_rating\"]]\n",
    "\n",
    "# cleaning extracted columns in data\n",
    "data[\"price\"] = list(map(clean_dollars, data[\"price\"]))\n",
    "data[\"security_deposit\"] = list(map(clean_dollars, data[\"security_deposit\"]))\n",
    "data[\"cleaning_fee\"] = list(map(clean_dollars, data[\"cleaning_fee\"]))\n",
    "\n",
    "# cleaning extracted columns in validation data\n",
    "val[\"price\"] = list(map(clean_dollars, val[\"price\"]))\n",
    "val[\"security_deposit\"] = list(map(clean_dollars, val[\"security_deposit\"]))\n",
    "val[\"cleaning_fee\"] = list(map(clean_dollars, val[\"cleaning_fee\"]))\n"
   ]
  },
  {
   "cell_type": "markdown",
   "metadata": {},
   "source": [
    "#### 3. Report the final number of observations, the estimated coefficient values, adjusted R2, and RMSE set (or k-fold CV) for three models:\n",
    "#### (a) a simple one that only contains a few most important variables/best predictors. What do you think are 2-3 best predictors in the data?\n",
    "#### (b) the full model: everything you consider useful.\n",
    "#### (c) something in between."
   ]
  },
  {
   "cell_type": "markdown",
   "metadata": {},
   "source": [
    "### Few variables"
   ]
  },
  {
   "cell_type": "code",
   "execution_count": 56,
   "metadata": {},
   "outputs": [
    {
     "data": {
      "text/html": [
       "<table class=\"simpletable\">\n",
       "<caption>OLS Regression Results</caption>\n",
       "<tr>\n",
       "  <th>Dep. Variable:</th>          <td>price</td>      <th>  R-squared:         </th> <td>   0.035</td> \n",
       "</tr>\n",
       "<tr>\n",
       "  <th>Model:</th>                   <td>OLS</td>       <th>  Adj. R-squared:    </th> <td>   0.032</td> \n",
       "</tr>\n",
       "<tr>\n",
       "  <th>Method:</th>             <td>Least Squares</td>  <th>  F-statistic:       </th> <td>   14.00</td> \n",
       "</tr>\n",
       "<tr>\n",
       "  <th>Date:</th>             <td>Sun, 01 Dec 2019</td> <th>  Prob (F-statistic):</th> <td>1.06e-06</td> \n",
       "</tr>\n",
       "<tr>\n",
       "  <th>Time:</th>                 <td>14:07:17</td>     <th>  Log-Likelihood:    </th> <td> -5031.8</td> \n",
       "</tr>\n",
       "<tr>\n",
       "  <th>No. Observations:</th>      <td>   780</td>      <th>  AIC:               </th> <td>1.007e+04</td>\n",
       "</tr>\n",
       "<tr>\n",
       "  <th>Df Residuals:</th>          <td>   777</td>      <th>  BIC:               </th> <td>1.008e+04</td>\n",
       "</tr>\n",
       "<tr>\n",
       "  <th>Df Model:</th>              <td>     2</td>      <th>                     </th>     <td> </td>    \n",
       "</tr>\n",
       "<tr>\n",
       "  <th>Covariance Type:</th>      <td>nonrobust</td>    <th>                     </th>     <td> </td>    \n",
       "</tr>\n",
       "</table>\n",
       "<table class=\"simpletable\">\n",
       "<tr>\n",
       "          <td></td>            <th>coef</th>     <th>std err</th>      <th>t</th>      <th>P>|t|</th>  <th>[0.025</th>    <th>0.975]</th>  \n",
       "</tr>\n",
       "<tr>\n",
       "  <th>Intercept</th>        <td>  125.5954</td> <td>    8.502</td> <td>   14.773</td> <td> 0.000</td> <td>  108.907</td> <td>  142.284</td>\n",
       "</tr>\n",
       "<tr>\n",
       "  <th>security_deposit</th> <td>    0.0129</td> <td>    0.014</td> <td>    0.939</td> <td> 0.348</td> <td>   -0.014</td> <td>    0.040</td>\n",
       "</tr>\n",
       "<tr>\n",
       "  <th>cleaning_fee</th>     <td>    0.2910</td> <td>    0.063</td> <td>    4.651</td> <td> 0.000</td> <td>    0.168</td> <td>    0.414</td>\n",
       "</tr>\n",
       "</table>\n",
       "<table class=\"simpletable\">\n",
       "<tr>\n",
       "  <th>Omnibus:</th>       <td>833.232</td> <th>  Durbin-Watson:     </th> <td>   1.366</td> \n",
       "</tr>\n",
       "<tr>\n",
       "  <th>Prob(Omnibus):</th> <td> 0.000</td>  <th>  Jarque-Bera (JB):  </th> <td>50057.108</td>\n",
       "</tr>\n",
       "<tr>\n",
       "  <th>Skew:</th>          <td> 5.059</td>  <th>  Prob(JB):          </th> <td>    0.00</td> \n",
       "</tr>\n",
       "<tr>\n",
       "  <th>Kurtosis:</th>      <td>40.919</td>  <th>  Cond. No.          </th> <td>    782.</td> \n",
       "</tr>\n",
       "</table><br/><br/>Warnings:<br/>[1] Standard Errors assume that the covariance matrix of the errors is correctly specified."
      ],
      "text/plain": [
       "<class 'statsmodels.iolib.summary.Summary'>\n",
       "\"\"\"\n",
       "                            OLS Regression Results                            \n",
       "==============================================================================\n",
       "Dep. Variable:                  price   R-squared:                       0.035\n",
       "Model:                            OLS   Adj. R-squared:                  0.032\n",
       "Method:                 Least Squares   F-statistic:                     14.00\n",
       "Date:                Sun, 01 Dec 2019   Prob (F-statistic):           1.06e-06\n",
       "Time:                        14:07:17   Log-Likelihood:                -5031.8\n",
       "No. Observations:                 780   AIC:                         1.007e+04\n",
       "Df Residuals:                     777   BIC:                         1.008e+04\n",
       "Df Model:                           2                                         \n",
       "Covariance Type:            nonrobust                                         \n",
       "====================================================================================\n",
       "                       coef    std err          t      P>|t|      [0.025      0.975]\n",
       "------------------------------------------------------------------------------------\n",
       "Intercept          125.5954      8.502     14.773      0.000     108.907     142.284\n",
       "security_deposit     0.0129      0.014      0.939      0.348      -0.014       0.040\n",
       "cleaning_fee         0.2910      0.063      4.651      0.000       0.168       0.414\n",
       "==============================================================================\n",
       "Omnibus:                      833.232   Durbin-Watson:                   1.366\n",
       "Prob(Omnibus):                  0.000   Jarque-Bera (JB):            50057.108\n",
       "Skew:                           5.059   Prob(JB):                         0.00\n",
       "Kurtosis:                      40.919   Cond. No.                         782.\n",
       "==============================================================================\n",
       "\n",
       "Warnings:\n",
       "[1] Standard Errors assume that the covariance matrix of the errors is correctly specified.\n",
       "\"\"\""
      ]
     },
     "execution_count": 56,
     "metadata": {},
     "output_type": "execute_result"
    }
   ],
   "source": [
    "m1 = smf.ols(formula = 'price ~ security_deposit + cleaning_fee',\n",
    "             data=data, missing='drop').fit()\n",
    "m1.summary()"
   ]
  },
  {
   "cell_type": "markdown",
   "metadata": {},
   "source": [
    "### Something In Between"
   ]
  },
  {
   "cell_type": "code",
   "execution_count": 63,
   "metadata": {
    "scrolled": false
   },
   "outputs": [
    {
     "data": {
      "text/html": [
       "<table class=\"simpletable\">\n",
       "<caption>OLS Regression Results</caption>\n",
       "<tr>\n",
       "  <th>Dep. Variable:</th>          <td>price</td>      <th>  R-squared:         </th> <td>   0.090</td>\n",
       "</tr>\n",
       "<tr>\n",
       "  <th>Model:</th>                   <td>OLS</td>       <th>  Adj. R-squared:    </th> <td>   0.083</td>\n",
       "</tr>\n",
       "<tr>\n",
       "  <th>Method:</th>             <td>Least Squares</td>  <th>  F-statistic:       </th> <td>   13.38</td>\n",
       "</tr>\n",
       "<tr>\n",
       "  <th>Date:</th>             <td>Sun, 01 Dec 2019</td> <th>  Prob (F-statistic):</th> <td>2.41e-08</td>\n",
       "</tr>\n",
       "<tr>\n",
       "  <th>Time:</th>                 <td>14:22:01</td>     <th>  Log-Likelihood:    </th> <td> -2618.7</td>\n",
       "</tr>\n",
       "<tr>\n",
       "  <th>No. Observations:</th>      <td>   412</td>      <th>  AIC:               </th> <td>   5245.</td>\n",
       "</tr>\n",
       "<tr>\n",
       "  <th>Df Residuals:</th>          <td>   408</td>      <th>  BIC:               </th> <td>   5261.</td>\n",
       "</tr>\n",
       "<tr>\n",
       "  <th>Df Model:</th>              <td>     3</td>      <th>                     </th>     <td> </td>   \n",
       "</tr>\n",
       "<tr>\n",
       "  <th>Covariance Type:</th>      <td>nonrobust</td>    <th>                     </th>     <td> </td>   \n",
       "</tr>\n",
       "</table>\n",
       "<table class=\"simpletable\">\n",
       "<tr>\n",
       "            <td></td>              <th>coef</th>     <th>std err</th>      <th>t</th>      <th>P>|t|</th>  <th>[0.025</th>    <th>0.975]</th>  \n",
       "</tr>\n",
       "<tr>\n",
       "  <th>Intercept</th>            <td>  218.9973</td> <td>   69.535</td> <td>    3.149</td> <td> 0.002</td> <td>   82.305</td> <td>  355.690</td>\n",
       "</tr>\n",
       "<tr>\n",
       "  <th>security_deposit</th>     <td>    0.0208</td> <td>    0.019</td> <td>    1.101</td> <td> 0.271</td> <td>   -0.016</td> <td>    0.058</td>\n",
       "</tr>\n",
       "<tr>\n",
       "  <th>cleaning_fee</th>         <td>    0.7046</td> <td>    0.123</td> <td>    5.725</td> <td> 0.000</td> <td>    0.463</td> <td>    0.946</td>\n",
       "</tr>\n",
       "<tr>\n",
       "  <th>review_scores_rating</th> <td>   -1.1897</td> <td>    0.739</td> <td>   -1.610</td> <td> 0.108</td> <td>   -2.642</td> <td>    0.263</td>\n",
       "</tr>\n",
       "</table>\n",
       "<table class=\"simpletable\">\n",
       "<tr>\n",
       "  <th>Omnibus:</th>       <td>377.287</td> <th>  Durbin-Watson:     </th> <td>   1.194</td>\n",
       "</tr>\n",
       "<tr>\n",
       "  <th>Prob(Omnibus):</th> <td> 0.000</td>  <th>  Jarque-Bera (JB):  </th> <td>8303.657</td>\n",
       "</tr>\n",
       "<tr>\n",
       "  <th>Skew:</th>          <td> 4.022</td>  <th>  Prob(JB):          </th> <td>    0.00</td>\n",
       "</tr>\n",
       "<tr>\n",
       "  <th>Kurtosis:</th>      <td>23.470</td>  <th>  Cond. No.          </th> <td>4.29e+03</td>\n",
       "</tr>\n",
       "</table><br/><br/>Warnings:<br/>[1] Standard Errors assume that the covariance matrix of the errors is correctly specified.<br/>[2] The condition number is large, 4.29e+03. This might indicate that there are<br/>strong multicollinearity or other numerical problems."
      ],
      "text/plain": [
       "<class 'statsmodels.iolib.summary.Summary'>\n",
       "\"\"\"\n",
       "                            OLS Regression Results                            \n",
       "==============================================================================\n",
       "Dep. Variable:                  price   R-squared:                       0.090\n",
       "Model:                            OLS   Adj. R-squared:                  0.083\n",
       "Method:                 Least Squares   F-statistic:                     13.38\n",
       "Date:                Sun, 01 Dec 2019   Prob (F-statistic):           2.41e-08\n",
       "Time:                        14:22:01   Log-Likelihood:                -2618.7\n",
       "No. Observations:                 412   AIC:                             5245.\n",
       "Df Residuals:                     408   BIC:                             5261.\n",
       "Df Model:                           3                                         \n",
       "Covariance Type:            nonrobust                                         \n",
       "========================================================================================\n",
       "                           coef    std err          t      P>|t|      [0.025      0.975]\n",
       "----------------------------------------------------------------------------------------\n",
       "Intercept              218.9973     69.535      3.149      0.002      82.305     355.690\n",
       "security_deposit         0.0208      0.019      1.101      0.271      -0.016       0.058\n",
       "cleaning_fee             0.7046      0.123      5.725      0.000       0.463       0.946\n",
       "review_scores_rating    -1.1897      0.739     -1.610      0.108      -2.642       0.263\n",
       "==============================================================================\n",
       "Omnibus:                      377.287   Durbin-Watson:                   1.194\n",
       "Prob(Omnibus):                  0.000   Jarque-Bera (JB):             8303.657\n",
       "Skew:                           4.022   Prob(JB):                         0.00\n",
       "Kurtosis:                      23.470   Cond. No.                     4.29e+03\n",
       "==============================================================================\n",
       "\n",
       "Warnings:\n",
       "[1] Standard Errors assume that the covariance matrix of the errors is correctly specified.\n",
       "[2] The condition number is large, 4.29e+03. This might indicate that there are\n",
       "strong multicollinearity or other numerical problems.\n",
       "\"\"\""
      ]
     },
     "execution_count": 63,
     "metadata": {},
     "output_type": "execute_result"
    }
   ],
   "source": [
    "m2 = smf.ols(formula = 'price ~ security_deposit + cleaning_fee + review_scores_rating',\n",
    "             data=data, missing='drop').fit()\n",
    "m2.summary()"
   ]
  },
  {
   "cell_type": "markdown",
   "metadata": {},
   "source": [
    "### All variables"
   ]
  },
  {
   "cell_type": "code",
   "execution_count": 78,
   "metadata": {},
   "outputs": [
    {
     "data": {
      "text/html": [
       "<table class=\"simpletable\">\n",
       "<caption>OLS Regression Results</caption>\n",
       "<tr>\n",
       "  <th>Dep. Variable:</th>          <td>price</td>      <th>  R-squared:         </th> <td>   0.128</td>\n",
       "</tr>\n",
       "<tr>\n",
       "  <th>Model:</th>                   <td>OLS</td>       <th>  Adj. R-squared:    </th> <td>   0.118</td>\n",
       "</tr>\n",
       "<tr>\n",
       "  <th>Method:</th>             <td>Least Squares</td>  <th>  F-statistic:       </th> <td>   11.96</td>\n",
       "</tr>\n",
       "<tr>\n",
       "  <th>Date:</th>             <td>Sun, 01 Dec 2019</td> <th>  Prob (F-statistic):</th> <td>8.14e-11</td>\n",
       "</tr>\n",
       "<tr>\n",
       "  <th>Time:</th>                 <td>14:49:32</td>     <th>  Log-Likelihood:    </th> <td> -2609.7</td>\n",
       "</tr>\n",
       "<tr>\n",
       "  <th>No. Observations:</th>      <td>   412</td>      <th>  AIC:               </th> <td>   5231.</td>\n",
       "</tr>\n",
       "<tr>\n",
       "  <th>Df Residuals:</th>          <td>   406</td>      <th>  BIC:               </th> <td>   5256.</td>\n",
       "</tr>\n",
       "<tr>\n",
       "  <th>Df Model:</th>              <td>     5</td>      <th>                     </th>     <td> </td>   \n",
       "</tr>\n",
       "<tr>\n",
       "  <th>Covariance Type:</th>      <td>nonrobust</td>    <th>                     </th>     <td> </td>   \n",
       "</tr>\n",
       "</table>\n",
       "<table class=\"simpletable\">\n",
       "<tr>\n",
       "            <td></td>              <th>coef</th>     <th>std err</th>      <th>t</th>      <th>P>|t|</th>  <th>[0.025</th>    <th>0.975]</th>  \n",
       "</tr>\n",
       "<tr>\n",
       "  <th>Intercept</th>            <td>  183.2277</td> <td>   69.789</td> <td>    2.625</td> <td> 0.009</td> <td>   46.035</td> <td>  320.420</td>\n",
       "</tr>\n",
       "<tr>\n",
       "  <th>security_deposit</th>     <td>    0.0186</td> <td>    0.019</td> <td>    0.995</td> <td> 0.320</td> <td>   -0.018</td> <td>    0.055</td>\n",
       "</tr>\n",
       "<tr>\n",
       "  <th>bedrooms</th>             <td>   20.5506</td> <td>    9.031</td> <td>    2.276</td> <td> 0.023</td> <td>    2.797</td> <td>   38.304</td>\n",
       "</tr>\n",
       "<tr>\n",
       "  <th>bathrooms</th>            <td>   32.8718</td> <td>   16.919</td> <td>    1.943</td> <td> 0.053</td> <td>   -0.388</td> <td>   66.131</td>\n",
       "</tr>\n",
       "<tr>\n",
       "  <th>cleaning_fee</th>         <td>    0.4083</td> <td>    0.140</td> <td>    2.925</td> <td> 0.004</td> <td>    0.134</td> <td>    0.683</td>\n",
       "</tr>\n",
       "<tr>\n",
       "  <th>review_scores_rating</th> <td>   -1.3060</td> <td>    0.727</td> <td>   -1.797</td> <td> 0.073</td> <td>   -2.735</td> <td>    0.123</td>\n",
       "</tr>\n",
       "</table>\n",
       "<table class=\"simpletable\">\n",
       "<tr>\n",
       "  <th>Omnibus:</th>       <td>398.025</td> <th>  Durbin-Watson:     </th> <td>   1.144</td> \n",
       "</tr>\n",
       "<tr>\n",
       "  <th>Prob(Omnibus):</th> <td> 0.000</td>  <th>  Jarque-Bera (JB):  </th> <td>10416.146</td>\n",
       "</tr>\n",
       "<tr>\n",
       "  <th>Skew:</th>          <td> 4.295</td>  <th>  Prob(JB):          </th> <td>    0.00</td> \n",
       "</tr>\n",
       "<tr>\n",
       "  <th>Kurtosis:</th>      <td>26.086</td>  <th>  Cond. No.          </th> <td>4.39e+03</td> \n",
       "</tr>\n",
       "</table><br/><br/>Warnings:<br/>[1] Standard Errors assume that the covariance matrix of the errors is correctly specified.<br/>[2] The condition number is large, 4.39e+03. This might indicate that there are<br/>strong multicollinearity or other numerical problems."
      ],
      "text/plain": [
       "<class 'statsmodels.iolib.summary.Summary'>\n",
       "\"\"\"\n",
       "                            OLS Regression Results                            \n",
       "==============================================================================\n",
       "Dep. Variable:                  price   R-squared:                       0.128\n",
       "Model:                            OLS   Adj. R-squared:                  0.118\n",
       "Method:                 Least Squares   F-statistic:                     11.96\n",
       "Date:                Sun, 01 Dec 2019   Prob (F-statistic):           8.14e-11\n",
       "Time:                        14:49:32   Log-Likelihood:                -2609.7\n",
       "No. Observations:                 412   AIC:                             5231.\n",
       "Df Residuals:                     406   BIC:                             5256.\n",
       "Df Model:                           5                                         \n",
       "Covariance Type:            nonrobust                                         \n",
       "========================================================================================\n",
       "                           coef    std err          t      P>|t|      [0.025      0.975]\n",
       "----------------------------------------------------------------------------------------\n",
       "Intercept              183.2277     69.789      2.625      0.009      46.035     320.420\n",
       "security_deposit         0.0186      0.019      0.995      0.320      -0.018       0.055\n",
       "bedrooms                20.5506      9.031      2.276      0.023       2.797      38.304\n",
       "bathrooms               32.8718     16.919      1.943      0.053      -0.388      66.131\n",
       "cleaning_fee             0.4083      0.140      2.925      0.004       0.134       0.683\n",
       "review_scores_rating    -1.3060      0.727     -1.797      0.073      -2.735       0.123\n",
       "==============================================================================\n",
       "Omnibus:                      398.025   Durbin-Watson:                   1.144\n",
       "Prob(Omnibus):                  0.000   Jarque-Bera (JB):            10416.146\n",
       "Skew:                           4.295   Prob(JB):                         0.00\n",
       "Kurtosis:                      26.086   Cond. No.                     4.39e+03\n",
       "==============================================================================\n",
       "\n",
       "Warnings:\n",
       "[1] Standard Errors assume that the covariance matrix of the errors is correctly specified.\n",
       "[2] The condition number is large, 4.39e+03. This might indicate that there are\n",
       "strong multicollinearity or other numerical problems.\n",
       "\"\"\""
      ]
     },
     "execution_count": 78,
     "metadata": {},
     "output_type": "execute_result"
    }
   ],
   "source": [
    "m3 = smf.ols(formula = 'price ~ security_deposit + bedrooms + bathrooms + cleaning_fee + review_scores_rating',\n",
    "             data=data, missing='drop').fit()\n",
    "m3.summary()"
   ]
  },
  {
   "cell_type": "markdown",
   "metadata": {},
   "source": [
    "#### 4. Interpret the coefficients of the reported models. Again, only interpret the most interesting/important ones, not all of those! Do the coefficient values differ between the models? Can you explain why?"
   ]
  },
  {
   "cell_type": "markdown",
   "metadata": {},
   "source": [
    "It appears that the Bedrooms and Bathrooms have a big impact on price. This would be expected as Squar footage is normally a strong determinante for an expected price. While cleaning fees, reviews, and security deposit seem to have little effect."
   ]
  },
  {
   "cell_type": "markdown",
   "metadata": {},
   "source": [
    "#### 5. Use your models to predict the price. Report RMSE in the table above."
   ]
  },
  {
   "cell_type": "code",
   "execution_count": 72,
   "metadata": {},
   "outputs": [],
   "source": [
    "data.dropna(inplace=True)"
   ]
  },
  {
   "cell_type": "code",
   "execution_count": 73,
   "metadata": {},
   "outputs": [
    {
     "data": {
      "text/plain": [
       "array([[250. ,   1. ,   1. ,  60. ,  80. ],\n",
       "       [200. ,   2. ,   2. ,  95. , 100. ],\n",
       "       [250. ,   1. ,   1. ,  60. ,  90. ],\n",
       "       ...,\n",
       "       [  0. ,   1. ,   1.5,  25. , 100. ],\n",
       "       [150. ,   1. ,   1.5,  60. , 100. ],\n",
       "       [500. ,   1. ,   1. ,  85. , 100. ]])"
      ]
     },
     "execution_count": 73,
     "metadata": {},
     "output_type": "execute_result"
    }
   ],
   "source": [
    "x = data[['security_deposit', 'bedrooms', 'bathrooms', 'cleaning_fee', 'review_scores_rating']].values\n",
    "x"
   ]
  },
  {
   "cell_type": "code",
   "execution_count": 74,
   "metadata": {},
   "outputs": [
    {
     "data": {
      "text/plain": [
       "2472"
      ]
     },
     "execution_count": 74,
     "metadata": {},
     "output_type": "execute_result"
    }
   ],
   "source": [
    "X = np.hstack((np.ones((len(x),1)),x))\n",
    "X.size"
   ]
  },
  {
   "cell_type": "code",
   "execution_count": 75,
   "metadata": {},
   "outputs": [
    {
     "data": {
      "text/plain": [
       "array([999., 189., 999., 999., 999., 999., 999., 139.,  92., 128.,  62.,\n",
       "       181., 150.,  65., 135., 160., 175., 180.,  90.,  80., 190.,  99.,\n",
       "        38.,  40., 200.,  41.,  89., 450., 182., 198., 140., 436., 430.,\n",
       "        37.,  57.,  31.,  31.,  44.,  32.,  32., 150.,  63.,  55.,  75.,\n",
       "        75.,  75.,  75., 249., 125., 325., 113., 250.,  75., 125., 180.,\n",
       "        70., 180., 114., 100.,  75.,  76., 179., 115.,  75., 300.,  50.,\n",
       "       324., 120.,  79.,  69., 149., 196., 200., 100., 190., 180.,  60.,\n",
       "        50., 150., 220.,  93., 250.,  50.,  50.,  69., 350.,  80., 225.,\n",
       "        51., 149.,  74.,  60., 175., 150., 166., 161., 300., 149., 165.,\n",
       "        75., 175.,  55., 250., 250., 250., 250., 250., 250., 250., 129.,\n",
       "        87.,  93., 250., 250., 250., 250., 250.,  99., 375., 300., 120.,\n",
       "       300., 100., 120., 125., 298., 425., 120., 120.,  87., 157., 180.,\n",
       "       300., 125., 325.,  59., 160., 330., 125.,  49., 200., 110.,  88.,\n",
       "        88.,  68., 175.,  89.,  80.,  75., 120.,  53., 150.,  90., 100.,\n",
       "       149., 200., 275.,  90., 395.,  51., 235., 180., 120.,  80., 800.,\n",
       "        92.,  89., 129., 189., 189., 180.,  72.,  85., 200., 100., 180.,\n",
       "       165., 225., 125., 185., 121.,  23.,  59., 100., 135., 115., 150.,\n",
       "        76.,  60., 150.,  59.,  89.,  46., 225., 115., 119., 109., 219.,\n",
       "       111.,  67., 100., 125., 155.,  95.,  68., 200., 210., 190., 115.,\n",
       "        78., 350., 312., 175.,  90., 180.,  75., 101., 129., 150., 109.,\n",
       "       122., 220., 135., 250., 125.,  42., 145.,  75., 500., 135., 220.,\n",
       "       100., 149., 115., 175., 189., 175., 450., 175., 350., 350., 300.,\n",
       "       100., 139.,  95., 150.,  50.,  59., 168.,  60.,  99., 125.,  60.,\n",
       "       275.,  75.,  79., 120.,  89.,  99.,  87., 129., 119.,  89., 110.,\n",
       "       180., 140., 119., 150., 136.,  78.,  80., 164., 100.,  90.,  95.,\n",
       "       136.,  89., 398., 999., 192., 185., 100., 100., 125., 200., 130.,\n",
       "       130., 125., 105.,  85., 780., 100., 160., 100.,  40., 170., 160.,\n",
       "       100.,  80., 100., 180.,  76., 160.,  75., 108., 150.,  69., 107.,\n",
       "       200.,  90., 104., 165.,  99., 150., 175.,  59., 257., 275., 150.,\n",
       "        73.,  70., 200.,  65., 160., 105., 115.,  96., 124.,  75., 140.,\n",
       "       143., 119., 149., 250., 150., 150., 115.,  48., 240., 180., 168.,\n",
       "       189.,  65., 345., 300., 102., 150.,  74., 152.,  35., 190.,  50.,\n",
       "        78., 250., 119., 125.,  40., 398., 162., 105., 500., 220.,  95.,\n",
       "        75., 135., 100., 157.,  45., 368.,  99., 200., 165.,  45.,  90.,\n",
       "       140., 100., 149., 350., 250., 148., 224., 300., 250.,  60., 150.,\n",
       "       136.,  89., 116.,  70.,  55.,  75.,  39., 120., 129.,  89., 190.,\n",
       "       110.,  60.,  82., 122., 200.,  89.,  56., 115., 119., 100.,  38.,\n",
       "       102.,  80.,  38.,  75., 116.])"
      ]
     },
     "execution_count": 75,
     "metadata": {},
     "output_type": "execute_result"
    }
   ],
   "source": [
    "y = data.price.values\n",
    "y"
   ]
  },
  {
   "cell_type": "code",
   "execution_count": 76,
   "metadata": {},
   "outputs": [
    {
     "data": {
      "text/plain": [
       "array([ 1.83227655e+02,  1.85531692e-02,  2.05505931e+01,  3.28717732e+01,\n",
       "        4.08337699e-01, -1.30599426e+00])"
      ]
     },
     "execution_count": 76,
     "metadata": {},
     "output_type": "execute_result"
    }
   ],
   "source": [
    "beta = np.linalg.inv(X.T @ X) @ X.T @ y\n",
    "beta"
   ]
  },
  {
   "cell_type": "code",
   "execution_count": 79,
   "metadata": {},
   "outputs": [
    {
     "data": {
      "text/html": [
       "<table class=\"simpletable\">\n",
       "<caption>OLS Regression Results</caption>\n",
       "<tr>\n",
       "  <th>Dep. Variable:</th>          <td>price</td>      <th>  R-squared:         </th> <td>   0.128</td>\n",
       "</tr>\n",
       "<tr>\n",
       "  <th>Model:</th>                   <td>OLS</td>       <th>  Adj. R-squared:    </th> <td>   0.118</td>\n",
       "</tr>\n",
       "<tr>\n",
       "  <th>Method:</th>             <td>Least Squares</td>  <th>  F-statistic:       </th> <td>   11.96</td>\n",
       "</tr>\n",
       "<tr>\n",
       "  <th>Date:</th>             <td>Sun, 01 Dec 2019</td> <th>  Prob (F-statistic):</th> <td>8.14e-11</td>\n",
       "</tr>\n",
       "<tr>\n",
       "  <th>Time:</th>                 <td>14:49:38</td>     <th>  Log-Likelihood:    </th> <td> -2609.7</td>\n",
       "</tr>\n",
       "<tr>\n",
       "  <th>No. Observations:</th>      <td>   412</td>      <th>  AIC:               </th> <td>   5231.</td>\n",
       "</tr>\n",
       "<tr>\n",
       "  <th>Df Residuals:</th>          <td>   406</td>      <th>  BIC:               </th> <td>   5256.</td>\n",
       "</tr>\n",
       "<tr>\n",
       "  <th>Df Model:</th>              <td>     5</td>      <th>                     </th>     <td> </td>   \n",
       "</tr>\n",
       "<tr>\n",
       "  <th>Covariance Type:</th>      <td>nonrobust</td>    <th>                     </th>     <td> </td>   \n",
       "</tr>\n",
       "</table>\n",
       "<table class=\"simpletable\">\n",
       "<tr>\n",
       "            <td></td>              <th>coef</th>     <th>std err</th>      <th>t</th>      <th>P>|t|</th>  <th>[0.025</th>    <th>0.975]</th>  \n",
       "</tr>\n",
       "<tr>\n",
       "  <th>Intercept</th>            <td>  183.2277</td> <td>   69.789</td> <td>    2.625</td> <td> 0.009</td> <td>   46.035</td> <td>  320.420</td>\n",
       "</tr>\n",
       "<tr>\n",
       "  <th>security_deposit</th>     <td>    0.0186</td> <td>    0.019</td> <td>    0.995</td> <td> 0.320</td> <td>   -0.018</td> <td>    0.055</td>\n",
       "</tr>\n",
       "<tr>\n",
       "  <th>bedrooms</th>             <td>   20.5506</td> <td>    9.031</td> <td>    2.276</td> <td> 0.023</td> <td>    2.797</td> <td>   38.304</td>\n",
       "</tr>\n",
       "<tr>\n",
       "  <th>bathrooms</th>            <td>   32.8718</td> <td>   16.919</td> <td>    1.943</td> <td> 0.053</td> <td>   -0.388</td> <td>   66.131</td>\n",
       "</tr>\n",
       "<tr>\n",
       "  <th>cleaning_fee</th>         <td>    0.4083</td> <td>    0.140</td> <td>    2.925</td> <td> 0.004</td> <td>    0.134</td> <td>    0.683</td>\n",
       "</tr>\n",
       "<tr>\n",
       "  <th>review_scores_rating</th> <td>   -1.3060</td> <td>    0.727</td> <td>   -1.797</td> <td> 0.073</td> <td>   -2.735</td> <td>    0.123</td>\n",
       "</tr>\n",
       "</table>\n",
       "<table class=\"simpletable\">\n",
       "<tr>\n",
       "  <th>Omnibus:</th>       <td>398.025</td> <th>  Durbin-Watson:     </th> <td>   1.144</td> \n",
       "</tr>\n",
       "<tr>\n",
       "  <th>Prob(Omnibus):</th> <td> 0.000</td>  <th>  Jarque-Bera (JB):  </th> <td>10416.146</td>\n",
       "</tr>\n",
       "<tr>\n",
       "  <th>Skew:</th>          <td> 4.295</td>  <th>  Prob(JB):          </th> <td>    0.00</td> \n",
       "</tr>\n",
       "<tr>\n",
       "  <th>Kurtosis:</th>      <td>26.086</td>  <th>  Cond. No.          </th> <td>4.39e+03</td> \n",
       "</tr>\n",
       "</table><br/><br/>Warnings:<br/>[1] Standard Errors assume that the covariance matrix of the errors is correctly specified.<br/>[2] The condition number is large, 4.39e+03. This might indicate that there are<br/>strong multicollinearity or other numerical problems."
      ],
      "text/plain": [
       "<class 'statsmodels.iolib.summary.Summary'>\n",
       "\"\"\"\n",
       "                            OLS Regression Results                            \n",
       "==============================================================================\n",
       "Dep. Variable:                  price   R-squared:                       0.128\n",
       "Model:                            OLS   Adj. R-squared:                  0.118\n",
       "Method:                 Least Squares   F-statistic:                     11.96\n",
       "Date:                Sun, 01 Dec 2019   Prob (F-statistic):           8.14e-11\n",
       "Time:                        14:49:38   Log-Likelihood:                -2609.7\n",
       "No. Observations:                 412   AIC:                             5231.\n",
       "Df Residuals:                     406   BIC:                             5256.\n",
       "Df Model:                           5                                         \n",
       "Covariance Type:            nonrobust                                         \n",
       "========================================================================================\n",
       "                           coef    std err          t      P>|t|      [0.025      0.975]\n",
       "----------------------------------------------------------------------------------------\n",
       "Intercept              183.2277     69.789      2.625      0.009      46.035     320.420\n",
       "security_deposit         0.0186      0.019      0.995      0.320      -0.018       0.055\n",
       "bedrooms                20.5506      9.031      2.276      0.023       2.797      38.304\n",
       "bathrooms               32.8718     16.919      1.943      0.053      -0.388      66.131\n",
       "cleaning_fee             0.4083      0.140      2.925      0.004       0.134       0.683\n",
       "review_scores_rating    -1.3060      0.727     -1.797      0.073      -2.735       0.123\n",
       "==============================================================================\n",
       "Omnibus:                      398.025   Durbin-Watson:                   1.144\n",
       "Prob(Omnibus):                  0.000   Jarque-Bera (JB):            10416.146\n",
       "Skew:                           4.295   Prob(JB):                         0.00\n",
       "Kurtosis:                      26.086   Cond. No.                     4.39e+03\n",
       "==============================================================================\n",
       "\n",
       "Warnings:\n",
       "[1] Standard Errors assume that the covariance matrix of the errors is correctly specified.\n",
       "[2] The condition number is large, 4.39e+03. This might indicate that there are\n",
       "strong multicollinearity or other numerical problems.\n",
       "\"\"\""
      ]
     },
     "execution_count": 79,
     "metadata": {},
     "output_type": "execute_result"
    }
   ],
   "source": [
    "m3.summary()"
   ]
  },
  {
   "cell_type": "markdown",
   "metadata": {},
   "source": [
    "### 3. Think (15pt)"
   ]
  },
  {
   "cell_type": "markdown",
   "metadata": {},
   "source": [
    "#### 1. Does your model do a good job in predicting the price?"
   ]
  },
  {
   "cell_type": "markdown",
   "metadata": {},
   "source": [
    "Yes, we think it does predict the price fairly well as the predicted y is exactly the same to the coefficient values. \n"
   ]
  },
  {
   "cell_type": "markdown",
   "metadata": {},
   "source": [
    "#### 2. Can your results be used for something interesting, say for research or commercial purposes? What might it be?"
   ]
  },
  {
   "cell_type": "markdown",
   "metadata": {},
   "source": [
    "Commercial purposes- This could be useful for hotel chains if they are looking at building a new hotel in an area. They can see what a competitive rate would be, and could build accordingly. Travel agents and airlines could use this data to create travel packages. \n",
    "\n",
    "Research purposes- Universities could look at housing trends and see what kind of effect this might have on local economies and housing markets. City goverments could take necessary actions to perhaps limit negative effects of the airbnb market."
   ]
  },
  {
   "cell_type": "markdown",
   "metadata": {},
   "source": [
    "#### 3. You were predicting the price. Did you include any other price-related variables, such as weekly price or security deposit in your model? What would that mean in terms of the model usablity?"
   ]
  },
  {
   "cell_type": "markdown",
   "metadata": {},
   "source": [
    "Using price-related variables can sometimes have reverse effects. Security deposits weekly prices might change drastically from a daily price. This is often done to entice longer-term rentals if, for example the weekly price is quoted at a cheaper daily rate. This could have unintended effects on the daily expected price."
   ]
  },
  {
   "cell_type": "markdown",
   "metadata": {},
   "source": [
    "#### 4. imagine you are developing this work for a local, or for the national government. Why may government be interested in such a job? Do you see any ethical issues that may rise from your work?"
   ]
  },
  {
   "cell_type": "markdown",
   "metadata": {},
   "source": [
    "This could potentially be discriminating against Airbnb if local governments can use this data to prove that homeownership and normal rentals are being driven out of the market in favor of a higher-profit Airbnb model. Politics aside, this could be damaging to that business model. Otherwise local governments are interested in property values and census data affecting their districts. If there is the chance that fewer people will be living in their district, in other words favoring the Airbnb model, politicians might see this as disadvantageous to their re-election chances and might want to limit Airbnb and/or favor lower-income housing."
   ]
  },
  {
   "cell_type": "markdown",
   "metadata": {},
   "source": [
    "## 4. Additional task (10pt)"
   ]
  },
  {
   "cell_type": "markdown",
   "metadata": {},
   "source": [
    "#### 1. Load the testing data arbnb-seattle-listings-test.csv. This has exactly the same structure and variables as the original dataset."
   ]
  },
  {
   "cell_type": "code",
   "execution_count": null,
   "metadata": {},
   "outputs": [],
   "source": []
  },
  {
   "cell_type": "markdown",
   "metadata": {},
   "source": [
    "#### 2. Compute RMSE on the testing dataset. This is the ultimate goodness measure of your model. Present it prominently in your report."
   ]
  },
  {
   "cell_type": "code",
   "execution_count": null,
   "metadata": {},
   "outputs": [],
   "source": []
  },
  {
   "cell_type": "markdown",
   "metadata": {},
   "source": [
    "#### 3. Do not tinker with the model any more. This was your final test."
   ]
  }
 ],
 "metadata": {
  "kernelspec": {
   "display_name": "Python 3",
   "language": "python",
   "name": "python3"
  },
  "language_info": {
   "codemirror_mode": {
    "name": "ipython",
    "version": 3
   },
   "file_extension": ".py",
   "mimetype": "text/x-python",
   "name": "python",
   "nbconvert_exporter": "python",
   "pygments_lexer": "ipython3",
   "version": "3.6.5"
  }
 },
 "nbformat": 4,
 "nbformat_minor": 2
}
