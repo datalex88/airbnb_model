{
 "cells": [
  {
   "cell_type": "markdown",
   "metadata": {},
   "source": [
    "# Problem Set 6: Linear Regression\n",
    "\n",
    "### Alex Davis, Jeeyoung Kim, Rafael Bayer, Scarlett Hwang\n",
    "\n",
    "\n",
    "(Due on Thu, Dec 5th 5pm)"
   ]
  },
  {
   "cell_type": "code",
   "execution_count": 193,
   "metadata": {},
   "outputs": [],
   "source": [
    "import numpy as np\n",
    "import pandas as pd  \n",
    "import statsmodels.formula.api as smf\n",
    "import sklearn.linear_model as slm\n",
    "import matplotlib.pyplot as plt"
   ]
  },
  {
   "cell_type": "markdown",
   "metadata": {},
   "source": [
    "## 1. Data description (15pt)\n",
    "\n",
    "#### 1. Load the data airbnb-seattle-listings-train.csv. Broadly describe the variables you see, their encoding, and discuss if these may be valuable in determining the price."
   ]
  },
  {
   "cell_type": "code",
   "execution_count": 194,
   "metadata": {},
   "outputs": [],
   "source": [
    "data = pd.read_csv('airbnb-seattle-listings-train.csv', sep='\\t')"
   ]
  },
  {
   "cell_type": "code",
   "execution_count": 195,
   "metadata": {},
   "outputs": [
    {
     "data": {
      "text/html": [
       "<div>\n",
       "<style scoped>\n",
       "    .dataframe tbody tr th:only-of-type {\n",
       "        vertical-align: middle;\n",
       "    }\n",
       "\n",
       "    .dataframe tbody tr th {\n",
       "        vertical-align: top;\n",
       "    }\n",
       "\n",
       "    .dataframe thead th {\n",
       "        text-align: right;\n",
       "    }\n",
       "</style>\n",
       "<table border=\"1\" class=\"dataframe\">\n",
       "  <thead>\n",
       "    <tr style=\"text-align: right;\">\n",
       "      <th></th>\n",
       "      <th>id</th>\n",
       "      <th>listing_url</th>\n",
       "      <th>scrape_id</th>\n",
       "      <th>last_scraped</th>\n",
       "      <th>name</th>\n",
       "      <th>summary</th>\n",
       "      <th>space</th>\n",
       "      <th>description</th>\n",
       "      <th>experiences_offered</th>\n",
       "      <th>neighborhood_overview</th>\n",
       "      <th>...</th>\n",
       "      <th>instant_bookable</th>\n",
       "      <th>is_business_travel_ready</th>\n",
       "      <th>cancellation_policy</th>\n",
       "      <th>require_guest_profile_picture</th>\n",
       "      <th>require_guest_phone_verification</th>\n",
       "      <th>calculated_host_listings_count</th>\n",
       "      <th>calculated_host_listings_count_entire_homes</th>\n",
       "      <th>calculated_host_listings_count_private_rooms</th>\n",
       "      <th>calculated_host_listings_count_shared_rooms</th>\n",
       "      <th>reviews_per_month</th>\n",
       "    </tr>\n",
       "  </thead>\n",
       "  <tbody>\n",
       "    <tr>\n",
       "      <th>0</th>\n",
       "      <td>2318</td>\n",
       "      <td>https://www.airbnb.com/rooms/2318</td>\n",
       "      <td>20190922030624</td>\n",
       "      <td>2019-09-22</td>\n",
       "      <td>Casa Madrona - Urban Oasis 1 block from the park!</td>\n",
       "      <td>Gorgeous, architect remodeled, 1917 Dutch Colo...</td>\n",
       "      <td>Casa Madrona is a gorgeous, architect remodele...</td>\n",
       "      <td>Gorgeous, architect remodeled, 1917 Dutch Colo...</td>\n",
       "      <td>none</td>\n",
       "      <td>Madrona is a hidden gem of a neighborhood. It ...</td>\n",
       "      <td>...</td>\n",
       "      <td>f</td>\n",
       "      <td>f</td>\n",
       "      <td>strict_14_with_grace_period</td>\n",
       "      <td>f</td>\n",
       "      <td>f</td>\n",
       "      <td>2</td>\n",
       "      <td>2</td>\n",
       "      <td>0</td>\n",
       "      <td>0</td>\n",
       "      <td>0.21</td>\n",
       "    </tr>\n",
       "    <tr>\n",
       "      <th>1</th>\n",
       "      <td>5682</td>\n",
       "      <td>https://www.airbnb.com/rooms/5682</td>\n",
       "      <td>20190922030624</td>\n",
       "      <td>2019-09-22</td>\n",
       "      <td>Cozy Studio, min. to downtown -WiFi</td>\n",
       "      <td>The Cozy Studio is a perfect launchpad for you...</td>\n",
       "      <td>Hello fellow travelers, Save some money and ha...</td>\n",
       "      <td>The Cozy Studio is a perfect launchpad for you...</td>\n",
       "      <td>none</td>\n",
       "      <td>NaN</td>\n",
       "      <td>...</td>\n",
       "      <td>f</td>\n",
       "      <td>f</td>\n",
       "      <td>strict_14_with_grace_period</td>\n",
       "      <td>f</td>\n",
       "      <td>t</td>\n",
       "      <td>1</td>\n",
       "      <td>1</td>\n",
       "      <td>0</td>\n",
       "      <td>0</td>\n",
       "      <td>3.99</td>\n",
       "    </tr>\n",
       "    <tr>\n",
       "      <th>2</th>\n",
       "      <td>9419</td>\n",
       "      <td>https://www.airbnb.com/rooms/9419</td>\n",
       "      <td>20190922030624</td>\n",
       "      <td>2019-09-22</td>\n",
       "      <td>Glorious sun room w/ memory foambed</td>\n",
       "      <td>This beautiful double room features a magical ...</td>\n",
       "      <td>Our new Sunny space has a private room from th...</td>\n",
       "      <td>This beautiful double room features a magical ...</td>\n",
       "      <td>none</td>\n",
       "      <td>Lots of restaurants (see our guide book) bars,...</td>\n",
       "      <td>...</td>\n",
       "      <td>f</td>\n",
       "      <td>f</td>\n",
       "      <td>moderate</td>\n",
       "      <td>t</td>\n",
       "      <td>t</td>\n",
       "      <td>8</td>\n",
       "      <td>0</td>\n",
       "      <td>8</td>\n",
       "      <td>0</td>\n",
       "      <td>1.29</td>\n",
       "    </tr>\n",
       "    <tr>\n",
       "      <th>3</th>\n",
       "      <td>9460</td>\n",
       "      <td>https://www.airbnb.com/rooms/9460</td>\n",
       "      <td>20190922030624</td>\n",
       "      <td>2019-09-22</td>\n",
       "      <td>Downtown Convention Center B&amp;B -- Free Minibar</td>\n",
       "      <td>Take up a glass of wine and unwind on one of t...</td>\n",
       "      <td>Greetings from Seattle. Thanks for considering...</td>\n",
       "      <td>Take up a glass of wine and unwind on one of t...</td>\n",
       "      <td>none</td>\n",
       "      <td>The apartment is situated at the intersection ...</td>\n",
       "      <td>...</td>\n",
       "      <td>t</td>\n",
       "      <td>f</td>\n",
       "      <td>moderate</td>\n",
       "      <td>f</td>\n",
       "      <td>f</td>\n",
       "      <td>4</td>\n",
       "      <td>3</td>\n",
       "      <td>1</td>\n",
       "      <td>0</td>\n",
       "      <td>3.62</td>\n",
       "    </tr>\n",
       "    <tr>\n",
       "      <th>4</th>\n",
       "      <td>9531</td>\n",
       "      <td>https://www.airbnb.com/rooms/9531</td>\n",
       "      <td>20190922030624</td>\n",
       "      <td>2019-09-22</td>\n",
       "      <td>The Adorable Sweet Orange Craftsman</td>\n",
       "      <td>The Sweet Orange is a delightful and spacious ...</td>\n",
       "      <td>The Sweet Orange invites you to stay and play,...</td>\n",
       "      <td>The Sweet Orange is a delightful and spacious ...</td>\n",
       "      <td>none</td>\n",
       "      <td>The neighborhood is awesome!  Just far enough ...</td>\n",
       "      <td>...</td>\n",
       "      <td>f</td>\n",
       "      <td>f</td>\n",
       "      <td>strict_14_with_grace_period</td>\n",
       "      <td>f</td>\n",
       "      <td>t</td>\n",
       "      <td>2</td>\n",
       "      <td>2</td>\n",
       "      <td>0</td>\n",
       "      <td>0</td>\n",
       "      <td>0.39</td>\n",
       "    </tr>\n",
       "  </tbody>\n",
       "</table>\n",
       "<p>5 rows × 106 columns</p>\n",
       "</div>"
      ],
      "text/plain": [
       "     id                        listing_url       scrape_id last_scraped  \\\n",
       "0  2318  https://www.airbnb.com/rooms/2318  20190922030624   2019-09-22   \n",
       "1  5682  https://www.airbnb.com/rooms/5682  20190922030624   2019-09-22   \n",
       "2  9419  https://www.airbnb.com/rooms/9419  20190922030624   2019-09-22   \n",
       "3  9460  https://www.airbnb.com/rooms/9460  20190922030624   2019-09-22   \n",
       "4  9531  https://www.airbnb.com/rooms/9531  20190922030624   2019-09-22   \n",
       "\n",
       "                                                name  \\\n",
       "0  Casa Madrona - Urban Oasis 1 block from the park!   \n",
       "1                Cozy Studio, min. to downtown -WiFi   \n",
       "2                Glorious sun room w/ memory foambed   \n",
       "3     Downtown Convention Center B&B -- Free Minibar   \n",
       "4                The Adorable Sweet Orange Craftsman   \n",
       "\n",
       "                                             summary  \\\n",
       "0  Gorgeous, architect remodeled, 1917 Dutch Colo...   \n",
       "1  The Cozy Studio is a perfect launchpad for you...   \n",
       "2  This beautiful double room features a magical ...   \n",
       "3  Take up a glass of wine and unwind on one of t...   \n",
       "4  The Sweet Orange is a delightful and spacious ...   \n",
       "\n",
       "                                               space  \\\n",
       "0  Casa Madrona is a gorgeous, architect remodele...   \n",
       "1  Hello fellow travelers, Save some money and ha...   \n",
       "2  Our new Sunny space has a private room from th...   \n",
       "3  Greetings from Seattle. Thanks for considering...   \n",
       "4  The Sweet Orange invites you to stay and play,...   \n",
       "\n",
       "                                         description experiences_offered  \\\n",
       "0  Gorgeous, architect remodeled, 1917 Dutch Colo...                none   \n",
       "1  The Cozy Studio is a perfect launchpad for you...                none   \n",
       "2  This beautiful double room features a magical ...                none   \n",
       "3  Take up a glass of wine and unwind on one of t...                none   \n",
       "4  The Sweet Orange is a delightful and spacious ...                none   \n",
       "\n",
       "                               neighborhood_overview  ... instant_bookable  \\\n",
       "0  Madrona is a hidden gem of a neighborhood. It ...  ...                f   \n",
       "1                                                NaN  ...                f   \n",
       "2  Lots of restaurants (see our guide book) bars,...  ...                f   \n",
       "3  The apartment is situated at the intersection ...  ...                t   \n",
       "4  The neighborhood is awesome!  Just far enough ...  ...                f   \n",
       "\n",
       "  is_business_travel_ready          cancellation_policy  \\\n",
       "0                        f  strict_14_with_grace_period   \n",
       "1                        f  strict_14_with_grace_period   \n",
       "2                        f                     moderate   \n",
       "3                        f                     moderate   \n",
       "4                        f  strict_14_with_grace_period   \n",
       "\n",
       "  require_guest_profile_picture require_guest_phone_verification  \\\n",
       "0                             f                                f   \n",
       "1                             f                                t   \n",
       "2                             t                                t   \n",
       "3                             f                                f   \n",
       "4                             f                                t   \n",
       "\n",
       "   calculated_host_listings_count  \\\n",
       "0                               2   \n",
       "1                               1   \n",
       "2                               8   \n",
       "3                               4   \n",
       "4                               2   \n",
       "\n",
       "   calculated_host_listings_count_entire_homes  \\\n",
       "0                                            2   \n",
       "1                                            1   \n",
       "2                                            0   \n",
       "3                                            3   \n",
       "4                                            2   \n",
       "\n",
       "  calculated_host_listings_count_private_rooms  \\\n",
       "0                                            0   \n",
       "1                                            0   \n",
       "2                                            8   \n",
       "3                                            1   \n",
       "4                                            0   \n",
       "\n",
       "   calculated_host_listings_count_shared_rooms  reviews_per_month  \n",
       "0                                            0               0.21  \n",
       "1                                            0               3.99  \n",
       "2                                            0               1.29  \n",
       "3                                            0               3.62  \n",
       "4                                            0               0.39  \n",
       "\n",
       "[5 rows x 106 columns]"
      ]
     },
     "execution_count": 195,
     "metadata": {},
     "output_type": "execute_result"
    }
   ],
   "source": [
    "data.head()"
   ]
  },
  {
   "cell_type": "code",
   "execution_count": 196,
   "metadata": {},
   "outputs": [
    {
     "data": {
      "text/plain": [
       "['id',\n",
       " 'listing_url',\n",
       " 'scrape_id',\n",
       " 'last_scraped',\n",
       " 'name',\n",
       " 'summary',\n",
       " 'space',\n",
       " 'description',\n",
       " 'experiences_offered',\n",
       " 'neighborhood_overview',\n",
       " 'notes',\n",
       " 'transit',\n",
       " 'access',\n",
       " 'interaction',\n",
       " 'house_rules',\n",
       " 'thumbnail_url',\n",
       " 'medium_url',\n",
       " 'picture_url',\n",
       " 'xl_picture_url',\n",
       " 'host_id',\n",
       " 'host_url',\n",
       " 'host_name',\n",
       " 'host_since',\n",
       " 'host_location',\n",
       " 'host_about',\n",
       " 'host_response_time',\n",
       " 'host_response_rate',\n",
       " 'host_acceptance_rate',\n",
       " 'host_is_superhost',\n",
       " 'host_thumbnail_url',\n",
       " 'host_picture_url',\n",
       " 'host_neighbourhood',\n",
       " 'host_listings_count',\n",
       " 'host_total_listings_count',\n",
       " 'host_verifications',\n",
       " 'host_has_profile_pic',\n",
       " 'host_identity_verified',\n",
       " 'street',\n",
       " 'neighbourhood',\n",
       " 'neighbourhood_cleansed',\n",
       " 'neighbourhood_group_cleansed',\n",
       " 'city',\n",
       " 'state',\n",
       " 'zipcode',\n",
       " 'market',\n",
       " 'smart_location',\n",
       " 'country_code',\n",
       " 'country',\n",
       " 'latitude',\n",
       " 'longitude',\n",
       " 'is_location_exact',\n",
       " 'property_type',\n",
       " 'room_type',\n",
       " 'accommodates',\n",
       " 'bathrooms',\n",
       " 'bedrooms',\n",
       " 'beds',\n",
       " 'bed_type',\n",
       " 'amenities',\n",
       " 'square_feet',\n",
       " 'price',\n",
       " 'weekly_price',\n",
       " 'monthly_price',\n",
       " 'security_deposit',\n",
       " 'cleaning_fee',\n",
       " 'guests_included',\n",
       " 'extra_people',\n",
       " 'minimum_nights',\n",
       " 'maximum_nights',\n",
       " 'minimum_minimum_nights',\n",
       " 'maximum_minimum_nights',\n",
       " 'minimum_maximum_nights',\n",
       " 'maximum_maximum_nights',\n",
       " 'minimum_nights_avg_ntm',\n",
       " 'maximum_nights_avg_ntm',\n",
       " 'calendar_updated',\n",
       " 'has_availability',\n",
       " 'availability_30',\n",
       " 'availability_60',\n",
       " 'availability_90',\n",
       " 'availability_365',\n",
       " 'calendar_last_scraped',\n",
       " 'number_of_reviews',\n",
       " 'number_of_reviews_ltm',\n",
       " 'first_review',\n",
       " 'last_review',\n",
       " 'review_scores_rating',\n",
       " 'review_scores_accuracy',\n",
       " 'review_scores_cleanliness',\n",
       " 'review_scores_checkin',\n",
       " 'review_scores_communication',\n",
       " 'review_scores_location',\n",
       " 'review_scores_value',\n",
       " 'requires_license',\n",
       " 'license',\n",
       " 'jurisdiction_names',\n",
       " 'instant_bookable',\n",
       " 'is_business_travel_ready',\n",
       " 'cancellation_policy',\n",
       " 'require_guest_profile_picture',\n",
       " 'require_guest_phone_verification',\n",
       " 'calculated_host_listings_count',\n",
       " 'calculated_host_listings_count_entire_homes',\n",
       " 'calculated_host_listings_count_private_rooms',\n",
       " 'calculated_host_listings_count_shared_rooms',\n",
       " 'reviews_per_month']"
      ]
     },
     "execution_count": 196,
     "metadata": {},
     "output_type": "execute_result"
    }
   ],
   "source": [
    "list(data.columns.values)"
   ]
  },
  {
   "cell_type": "markdown",
   "metadata": {},
   "source": [
    "#### 2. Consider how will you handle missing data."
   ]
  },
  {
   "cell_type": "code",
   "execution_count": 197,
   "metadata": {},
   "outputs": [
    {
     "data": {
      "text/plain": [
       "(7540, 106)"
      ]
     },
     "execution_count": 197,
     "metadata": {},
     "output_type": "execute_result"
    }
   ],
   "source": [
    "data.shape"
   ]
  },
  {
   "cell_type": "code",
   "execution_count": 198,
   "metadata": {},
   "outputs": [
    {
     "data": {
      "text/plain": [
       "name                              1\n",
       "summary                         143\n",
       "space                          1469\n",
       "description                      49\n",
       "neighborhood_overview          2138\n",
       "notes                          3100\n",
       "transit                        2242\n",
       "access                         2522\n",
       "interaction                    1954\n",
       "house_rules                    1744\n",
       "thumbnail_url                  7540\n",
       "medium_url                     7540\n",
       "xl_picture_url                 7540\n",
       "host_name                         1\n",
       "host_since                        1\n",
       "host_location                    11\n",
       "host_about                     1992\n",
       "host_response_time             1484\n",
       "host_response_rate             1484\n",
       "host_acceptance_rate           7540\n",
       "host_is_superhost                 1\n",
       "host_thumbnail_url                1\n",
       "host_picture_url                  1\n",
       "host_neighbourhood              680\n",
       "host_listings_count               1\n",
       "host_total_listings_count         1\n",
       "host_has_profile_pic              1\n",
       "host_identity_verified            1\n",
       "city                              4\n",
       "state                             2\n",
       "zipcode                         145\n",
       "market                           13\n",
       "bedrooms                          1\n",
       "beds                              3\n",
       "square_feet                    7212\n",
       "weekly_price                   6688\n",
       "monthly_price                  6891\n",
       "security_deposit               1332\n",
       "cleaning_fee                    691\n",
       "first_review                   1087\n",
       "last_review                    1087\n",
       "review_scores_rating           1137\n",
       "review_scores_accuracy         1139\n",
       "review_scores_cleanliness      1139\n",
       "review_scores_checkin          1140\n",
       "review_scores_communication    1138\n",
       "review_scores_location         1140\n",
       "review_scores_value            1139\n",
       "license                        6004\n",
       "reviews_per_month              1087\n",
       "dtype: int64"
      ]
     },
     "execution_count": 198,
     "metadata": {},
     "output_type": "execute_result"
    }
   ],
   "source": [
    "null_columns = data.columns[data.isnull().any()]\n",
    "data[null_columns].isnull().sum()"
   ]
  },
  {
   "cell_type": "markdown",
   "metadata": {},
   "source": [
    "We wil be replacing na values with its mean values. "
   ]
  },
  {
   "cell_type": "markdown",
   "metadata": {},
   "source": [
    "#### 3. Consider which variables you are going to use below."
   ]
  },
  {
   "cell_type": "markdown",
   "metadata": {},
   "source": [
    "\"price\"\n",
    "\"security_deposit\"\n",
    "\"bedrooms\"\n",
    "\"bathrooms\"\n",
    "\"cleaning_fee\" \n",
    "\"review_scores_rating\"\n",
    "\"beds\" "
   ]
  },
  {
   "cell_type": "markdown",
   "metadata": {},
   "source": [
    "## 2. Model (60pt)\n",
    "\n",
    "#### 1. Either split your data into training and validation sets, or just use cross validation below."
   ]
  },
  {
   "cell_type": "code",
   "execution_count": 199,
   "metadata": {},
   "outputs": [],
   "source": [
    "val = data[:-1000]"
   ]
  },
  {
   "cell_type": "markdown",
   "metadata": {},
   "source": [
    "#### 2. Develop the models. Report all the variables and how do you clean/encode those. While the exact details are visible in the code, explain the broad choices in text."
   ]
  },
  {
   "cell_type": "code",
   "execution_count": 210,
   "metadata": {},
   "outputs": [
    {
     "name": "stderr",
     "output_type": "stream",
     "text": [
      "/Users/mac/anaconda3/lib/python3.7/site-packages/ipykernel_launcher.py:15: SettingWithCopyWarning: \n",
      "A value is trying to be set on a copy of a slice from a DataFrame.\n",
      "Try using .loc[row_indexer,col_indexer] = value instead\n",
      "\n",
      "See the caveats in the documentation: http://pandas.pydata.org/pandas-docs/stable/indexing.html#indexing-view-versus-copy\n",
      "  from ipykernel import kernelapp as app\n",
      "/Users/mac/anaconda3/lib/python3.7/site-packages/ipykernel_launcher.py:16: SettingWithCopyWarning: \n",
      "A value is trying to be set on a copy of a slice from a DataFrame.\n",
      "Try using .loc[row_indexer,col_indexer] = value instead\n",
      "\n",
      "See the caveats in the documentation: http://pandas.pydata.org/pandas-docs/stable/indexing.html#indexing-view-versus-copy\n",
      "  app.launch_new_instance()\n",
      "/Users/mac/anaconda3/lib/python3.7/site-packages/ipykernel_launcher.py:17: SettingWithCopyWarning: \n",
      "A value is trying to be set on a copy of a slice from a DataFrame.\n",
      "Try using .loc[row_indexer,col_indexer] = value instead\n",
      "\n",
      "See the caveats in the documentation: http://pandas.pydata.org/pandas-docs/stable/indexing.html#indexing-view-versus-copy\n"
     ]
    }
   ],
   "source": [
    "# this function takes in a string representing a dollar amount\n",
    "# it returns the amount as a float, or returns NaN if it was already NaN\n",
    "def clean_dollars(s):\n",
    "    if type(s) == type(\"\"):\n",
    "        return float(s[s.index(\"$\")+1:].replace(\",\", \"\"))\n",
    "    return s\n",
    "\n",
    "# extracting columns\n",
    "data = data[[\"price\", \"security_deposit\", \"bedrooms\", \"bathrooms\", \"cleaning_fee\", \n",
    "             \"review_scores_rating\", \"beds\"]]\n",
    "val = val[[\"price\", \"security_deposit\", \"bedrooms\", \"bathrooms\", \"cleaning_fee\", \n",
    "             \"review_scores_rating\", \"beds\"]]\n",
    "\n",
    "# cleaning extracted columns in data\n",
    "data[\"price\"] = list(map(clean_dollars, data[\"price\"]))\n",
    "data[\"security_deposit\"] = list(map(clean_dollars, data[\"security_deposit\"]))\n",
    "data[\"cleaning_fee\"] = list(map(clean_dollars, data[\"cleaning_fee\"]))\n",
    "\n",
    "# cleaning extracted columns in validation data\n",
    "val[\"price\"] = list(map(clean_dollars, val[\"price\"]))\n",
    "val[\"security_deposit\"] = list(map(clean_dollars, val[\"security_deposit\"]))\n",
    "val[\"cleaning_fee\"] = list(map(clean_dollars, val[\"cleaning_fee\"]))\n",
    "\n",
    "# replacing NA values with mean\n",
    "data.security_deposit = data.security_deposit.fillna(data.security_deposit.mean())\n",
    "data.cleaning_fee = data.cleaning_fee.fillna(data.cleaning_fee.mean())\n",
    "data.review_scores_rating = data.review_scores_rating.fillna(data.review_scores_rating.mean())\n",
    "\n",
    "\n",
    "def rmse(actual, pred):\n",
    "    return np.sqrt(np.mean((pred-actual)**2))"
   ]
  },
  {
   "cell_type": "markdown",
   "metadata": {},
   "source": [
    "#### 3. Report the final number of observations, the estimated coefficient values, adjusted R2, and RMSE set (or k-fold CV) for three models:\n",
    "#### (a) a simple one that only contains a few most important variables/best predictors. What do you think are 2-3 best predictors in the data?\n",
    "#### (b) the full model: everything you consider useful.\n",
    "#### (c) something in between."
   ]
  },
  {
   "cell_type": "markdown",
   "metadata": {},
   "source": [
    "### Few variables"
   ]
  },
  {
   "cell_type": "code",
   "execution_count": 209,
   "metadata": {},
   "outputs": [
    {
     "name": "stdout",
     "output_type": "stream",
     "text": [
      "                            OLS Regression Results                            \n",
      "==============================================================================\n",
      "Dep. Variable:                  price   R-squared:                       0.091\n",
      "Model:                            OLS   Adj. R-squared:                  0.090\n",
      "Method:                 Least Squares   F-statistic:                     250.3\n",
      "Date:                Thu, 05 Dec 2019   Prob (F-statistic):          7.83e-155\n",
      "Time:                        16:23:13   Log-Likelihood:                -50074.\n",
      "No. Observations:                7536   AIC:                         1.002e+05\n",
      "Df Residuals:                    7532   BIC:                         1.002e+05\n",
      "Df Model:                           3                                         \n",
      "Covariance Type:            nonrobust                                         \n",
      "==============================================================================\n",
      "                 coef    std err          t      P>|t|      [0.025      0.975]\n",
      "------------------------------------------------------------------------------\n",
      "Intercept     74.0654      4.805     15.413      0.000      64.645      83.485\n",
      "beds           8.0103      1.891      4.236      0.000       4.304      11.717\n",
      "bathrooms     19.9694      4.154      4.808      0.000      11.827      28.112\n",
      "bedrooms      39.4815      3.121     12.648      0.000      33.362      45.600\n",
      "==============================================================================\n",
      "Omnibus:                    11410.878   Durbin-Watson:                   1.185\n",
      "Prob(Omnibus):                  0.000   Jarque-Bera (JB):          9740655.270\n",
      "Skew:                           9.135   Prob(JB):                         0.00\n",
      "Kurtosis:                     178.178   Cond. No.                         8.96\n",
      "==============================================================================\n",
      "\n",
      "Warnings:\n",
      "[1] Standard Errors assume that the covariance matrix of the errors is correctly specified. \n",
      "\n",
      "RMSE: 186.0032969839389\n"
     ]
    }
   ],
   "source": [
    "m1 = smf.ols(formula = 'price ~ beds + bathrooms + bedrooms',\n",
    "             data=data, missing='drop').fit()\n",
    "print(m1.summary(), \"\\n\")\n",
    "\n",
    "m1_yhat = m1.predict(data)\n",
    "m1_RMSE = rmse(m1_yhat, data.price)\n",
    "print(f\"RMSE: {m1_RMSE}\")"
   ]
  },
  {
   "cell_type": "markdown",
   "metadata": {},
   "source": [
    "### Something In Between"
   ]
  },
  {
   "cell_type": "code",
   "execution_count": 208,
   "metadata": {
    "scrolled": false
   },
   "outputs": [
    {
     "name": "stdout",
     "output_type": "stream",
     "text": [
      "                            OLS Regression Results                            \n",
      "==============================================================================\n",
      "Dep. Variable:                  price   R-squared:                       0.111\n",
      "Model:                            OLS   Adj. R-squared:                  0.110\n",
      "Method:                 Least Squares   F-statistic:                     312.2\n",
      "Date:                Thu, 05 Dec 2019   Prob (F-statistic):          4.95e-191\n",
      "Time:                        16:23:10   Log-Likelihood:                -49997.\n",
      "No. Observations:                7537   AIC:                         1.000e+05\n",
      "Df Residuals:                    7533   BIC:                         1.000e+05\n",
      "Df Model:                           3                                         \n",
      "Covariance Type:            nonrobust                                         \n",
      "====================================================================================\n",
      "                       coef    std err          t      P>|t|      [0.025      0.975]\n",
      "------------------------------------------------------------------------------------\n",
      "Intercept           73.2342      3.890     18.824      0.000      65.608      80.861\n",
      "cleaning_fee         0.7897      0.039     20.403      0.000       0.714       0.866\n",
      "beds                18.0395      1.465     12.312      0.000      15.167      20.912\n",
      "security_deposit    -0.0011      0.006     -0.167      0.867      -0.014       0.011\n",
      "==============================================================================\n",
      "Omnibus:                    11393.789   Durbin-Watson:                   1.212\n",
      "Prob(Omnibus):                  0.000   Jarque-Bera (JB):          9935758.329\n",
      "Skew:                           9.093   Prob(JB):                         0.00\n",
      "Kurtosis:                     179.940   Cond. No.                         826.\n",
      "==============================================================================\n",
      "\n",
      "Warnings:\n",
      "[1] Standard Errors assume that the covariance matrix of the errors is correctly specified. \n",
      "\n",
      "RMSE: 183.94487290127472\n"
     ]
    }
   ],
   "source": [
    "m2 = smf.ols(formula = 'price ~ cleaning_fee + beds + security_deposit',\n",
    "             data=data, missing='drop').fit()\n",
    "print(m2.summary(), \"\\n\")\n",
    "\n",
    "m2_yhat = m2.predict(data)\n",
    "m2_RMSE = rmse(m2_yhat, data.price)\n",
    "print(f\"RMSE: {m2_RMSE}\")"
   ]
  },
  {
   "cell_type": "markdown",
   "metadata": {},
   "source": [
    "### All variables"
   ]
  },
  {
   "cell_type": "code",
   "execution_count": 207,
   "metadata": {},
   "outputs": [
    {
     "name": "stdout",
     "output_type": "stream",
     "text": [
      "                            OLS Regression Results                            \n",
      "==============================================================================\n",
      "Dep. Variable:                  price   R-squared:                       0.185\n",
      "Model:                            OLS   Adj. R-squared:                  0.184\n",
      "Method:                 Least Squares   F-statistic:                     242.3\n",
      "Date:                Thu, 05 Dec 2019   Prob (F-statistic):          5.68e-280\n",
      "Time:                        16:23:03   Log-Likelihood:                -41226.\n",
      "No. Observations:                6402   AIC:                         8.247e+04\n",
      "Df Residuals:                    6395   BIC:                         8.251e+04\n",
      "Df Model:                           6                                         \n",
      "Covariance Type:            nonrobust                                         \n",
      "========================================================================================\n",
      "                           coef    std err          t      P>|t|      [0.025      0.975]\n",
      "----------------------------------------------------------------------------------------\n",
      "Intercept              243.8636     26.538      9.189      0.000     191.841     295.886\n",
      "security_deposit        -0.0073      0.006     -1.251      0.211      -0.019       0.004\n",
      "bedrooms                16.0886      3.038      5.296      0.000      10.133      22.044\n",
      "bathrooms               17.7914      3.737      4.760      0.000      10.465      25.118\n",
      "cleaning_fee             0.8197      0.045     18.381      0.000       0.732       0.907\n",
      "review_scores_rating    -2.1230      0.276     -7.692      0.000      -2.664      -1.582\n",
      "beds                     8.1597      1.797      4.541      0.000       4.637      11.682\n",
      "==============================================================================\n",
      "Omnibus:                     9773.469   Durbin-Watson:                   1.240\n",
      "Prob(Omnibus):                  0.000   Jarque-Bera (JB):         11079222.287\n",
      "Skew:                           9.144   Prob(JB):                         0.00\n",
      "Kurtosis:                     205.977   Cond. No.                     6.08e+03\n",
      "==============================================================================\n",
      "\n",
      "Warnings:\n",
      "[1] Standard Errors assume that the covariance matrix of the errors is correctly specified.\n",
      "[2] The condition number is large, 6.08e+03. This might indicate that there are\n",
      "strong multicollinearity or other numerical problems. \n",
      "\n",
      "RMSE: 151.5001527049642\n"
     ]
    }
   ],
   "source": [
    "m3 = smf.ols(formula = 'price ~ security_deposit + bedrooms + bathrooms + cleaning_fee + review_scores_rating + beds',\n",
    "             data=data, missing='drop').fit()\n",
    "print(m3.summary(), \"\\n\")\n",
    "\n",
    "m3_yhat = m3.predict(data)\n",
    "m3_RMSE = rmse(m3_yhat, data.price)\n",
    "print(f\"RMSE: {m3_RMSE}\")"
   ]
  },
  {
   "cell_type": "markdown",
   "metadata": {},
   "source": [
    "#### 4. Interpret the coefficients of the reported models. Again, only interpret the most interesting/important ones, not all of those! Do the coefficient values differ between the models? Can you explain why?"
   ]
  },
  {
   "cell_type": "markdown",
   "metadata": {},
   "source": [
    "It appears that the Bedrooms and Bathrooms have a big impact on price. This would be expected as Squar footage is normally a strong determinante for an expected price. While cleaning fees, reviews, and security deposit seem to have little effect.  "
   ]
  },
  {
   "cell_type": "markdown",
   "metadata": {},
   "source": [
    "#### 5. Use your models to predict the price. Report RMSE in the table above."
   ]
  },
  {
   "cell_type": "code",
   "execution_count": 136,
   "metadata": {},
   "outputs": [
    {
     "name": "stdout",
     "output_type": "stream",
     "text": [
      "RMSE: 181.6033479236199\n"
     ]
    }
   ],
   "source": [
    "m3.summary()\n",
    "m3_yhat = m3.predict(data)\n",
    "m3_RMSE = rmse(m3_yhat, data.price)\n",
    "print(f\"RMSE: {m3_RMSE}\")"
   ]
  },
  {
   "cell_type": "markdown",
   "metadata": {},
   "source": [
    "### 3. Think (15pt)"
   ]
  },
  {
   "cell_type": "markdown",
   "metadata": {},
   "source": [
    "#### 1. Does your model do a good job in predicting the price?"
   ]
  },
  {
   "cell_type": "markdown",
   "metadata": {},
   "source": [
    "Yes, we think it does predict the price fairly well as the predicted y is exactly the same to the coefficient values. \n"
   ]
  },
  {
   "cell_type": "markdown",
   "metadata": {},
   "source": [
    "#### 2. Can your results be used for something interesting, say for research or commercial purposes? What might it be?"
   ]
  },
  {
   "cell_type": "markdown",
   "metadata": {},
   "source": [
    "Commercial purposes- This could be useful for hotel chains if they are looking at building a new hotel in an area. They can see what a competitive rate would be, and could build accordingly. Travel agents and airlines could use this data to create travel packages. \n",
    "\n",
    "Research purposes- Universities could look at housing trends and see what kind of effect this might have on local economies and housing markets. City goverments could take necessary actions to perhaps limit negative effects of the airbnb market."
   ]
  },
  {
   "cell_type": "markdown",
   "metadata": {},
   "source": [
    "#### 3. You were predicting the price. Did you include any other price-related variables, such as weekly price or security deposit in your model? What would that mean in terms of the model usablity?"
   ]
  },
  {
   "cell_type": "markdown",
   "metadata": {},
   "source": [
    "Using price-related variables can sometimes have reverse effects. Security deposits weekly prices might change drastically from a daily price. This is often done to entice longer-term rentals if, for example the weekly price is quoted at a cheaper daily rate. This could have unintended effects on the daily expected price."
   ]
  },
  {
   "cell_type": "markdown",
   "metadata": {},
   "source": [
    "#### 4. imagine you are developing this work for a local, or for the national government. Why may government be interested in such a job? Do you see any ethical issues that may rise from your work?"
   ]
  },
  {
   "cell_type": "markdown",
   "metadata": {},
   "source": [
    "This could potentially be discriminating against Airbnb if local governments can use this data to prove that homeownership and normal rentals are being driven out of the market in favor of a higher-profit Airbnb model. Politics aside, this could be damaging to that business model. Otherwise local governments are interested in property values and census data affecting their districts. If there is the chance that fewer people will be living in their district, in other words favoring the Airbnb model, politicians might see this as disadvantageous to their re-election chances and might want to limit Airbnb and/or favor lower-income housing."
   ]
  },
  {
   "cell_type": "markdown",
   "metadata": {},
   "source": [
    "## 4. Additional task (10pt)"
   ]
  },
  {
   "cell_type": "markdown",
   "metadata": {},
   "source": [
    "#### 1. Load the testing data arbnb-seattle-listings-test.csv. This has exactly the same structure and variables as the original dataset."
   ]
  },
  {
   "cell_type": "code",
   "execution_count": 192,
   "metadata": {
    "scrolled": true
   },
   "outputs": [
    {
     "data": {
      "text/html": [
       "<div>\n",
       "<style scoped>\n",
       "    .dataframe tbody tr th:only-of-type {\n",
       "        vertical-align: middle;\n",
       "    }\n",
       "\n",
       "    .dataframe tbody tr th {\n",
       "        vertical-align: top;\n",
       "    }\n",
       "\n",
       "    .dataframe thead th {\n",
       "        text-align: right;\n",
       "    }\n",
       "</style>\n",
       "<table border=\"1\" class=\"dataframe\">\n",
       "  <thead>\n",
       "    <tr style=\"text-align: right;\">\n",
       "      <th></th>\n",
       "      <th>price</th>\n",
       "      <th>security_deposit</th>\n",
       "      <th>bedrooms</th>\n",
       "      <th>bathrooms</th>\n",
       "      <th>cleaning_fee</th>\n",
       "      <th>review_scores_rating</th>\n",
       "      <th>beds</th>\n",
       "      <th>review_scores_cleanliness</th>\n",
       "      <th>review_scores_location</th>\n",
       "    </tr>\n",
       "  </thead>\n",
       "  <tbody>\n",
       "    <tr>\n",
       "      <th>0</th>\n",
       "      <td>90.0</td>\n",
       "      <td>350.0</td>\n",
       "      <td>1</td>\n",
       "      <td>2.0</td>\n",
       "      <td>75.0</td>\n",
       "      <td>80.0</td>\n",
       "      <td>1</td>\n",
       "      <td>7.0</td>\n",
       "      <td>10.0</td>\n",
       "    </tr>\n",
       "    <tr>\n",
       "      <th>1</th>\n",
       "      <td>60.0</td>\n",
       "      <td>NaN</td>\n",
       "      <td>1</td>\n",
       "      <td>1.0</td>\n",
       "      <td>NaN</td>\n",
       "      <td>99.0</td>\n",
       "      <td>1</td>\n",
       "      <td>10.0</td>\n",
       "      <td>10.0</td>\n",
       "    </tr>\n",
       "    <tr>\n",
       "      <th>2</th>\n",
       "      <td>55.0</td>\n",
       "      <td>NaN</td>\n",
       "      <td>0</td>\n",
       "      <td>1.0</td>\n",
       "      <td>NaN</td>\n",
       "      <td>93.0</td>\n",
       "      <td>1</td>\n",
       "      <td>9.0</td>\n",
       "      <td>10.0</td>\n",
       "    </tr>\n",
       "    <tr>\n",
       "      <th>3</th>\n",
       "      <td>148.0</td>\n",
       "      <td>100.0</td>\n",
       "      <td>1</td>\n",
       "      <td>1.0</td>\n",
       "      <td>15.0</td>\n",
       "      <td>100.0</td>\n",
       "      <td>1</td>\n",
       "      <td>10.0</td>\n",
       "      <td>10.0</td>\n",
       "    </tr>\n",
       "    <tr>\n",
       "      <th>4</th>\n",
       "      <td>85.0</td>\n",
       "      <td>150.0</td>\n",
       "      <td>1</td>\n",
       "      <td>1.0</td>\n",
       "      <td>65.0</td>\n",
       "      <td>82.0</td>\n",
       "      <td>2</td>\n",
       "      <td>9.0</td>\n",
       "      <td>9.0</td>\n",
       "    </tr>\n",
       "  </tbody>\n",
       "</table>\n",
       "</div>"
      ],
      "text/plain": [
       "   price  security_deposit  bedrooms  bathrooms  cleaning_fee  \\\n",
       "0   90.0             350.0         1        2.0          75.0   \n",
       "1   60.0               NaN         1        1.0           NaN   \n",
       "2   55.0               NaN         0        1.0           NaN   \n",
       "3  148.0             100.0         1        1.0          15.0   \n",
       "4   85.0             150.0         1        1.0          65.0   \n",
       "\n",
       "   review_scores_rating  beds  review_scores_cleanliness  \\\n",
       "0                  80.0     1                        7.0   \n",
       "1                  99.0     1                       10.0   \n",
       "2                  93.0     1                        9.0   \n",
       "3                 100.0     1                       10.0   \n",
       "4                  82.0     2                        9.0   \n",
       "\n",
       "   review_scores_location  \n",
       "0                    10.0  \n",
       "1                    10.0  \n",
       "2                    10.0  \n",
       "3                    10.0  \n",
       "4                     9.0  "
      ]
     },
     "execution_count": 192,
     "metadata": {},
     "output_type": "execute_result"
    }
   ],
   "source": [
    "test = pd.read_csv('airbnb-seattle-listings-test.csv.bz2', sep='\\t')\n",
    "test = test[[\"price\", \"security_deposit\", \"bedrooms\", \"bathrooms\", \"cleaning_fee\", \"review_scores_rating\", \"beds\"]]\n",
    "\n",
    "# cleaning extracted columns in data\n",
    "test[\"price\"] = list(map(clean_dollars, test[\"price\"]))\n",
    "test[\"security_deposit\"] = list(map(clean_dollars, test[\"security_deposit\"]))\n",
    "test[\"cleaning_fee\"] = list(map(clean_dollars, test[\"cleaning_fee\"]))\n",
    "\n",
    "test.head()\n"
   ]
  },
  {
   "cell_type": "markdown",
   "metadata": {},
   "source": [
    "#### 2. Compute RMSE on the testing dataset. This is the ultimate goodness measure of your model. Present it prominently in your report."
   ]
  },
  {
   "cell_type": "code",
   "execution_count": 46,
   "metadata": {},
   "outputs": [
    {
     "name": "stdout",
     "output_type": "stream",
     "text": [
      "VALIDATION RMSE: 139.24107391409353\n"
     ]
    }
   ],
   "source": [
    "m3_yhat_val = m3.predict(test)\n",
    "m3_val_RMSE = rmse(m3_yhat_val, test.price)\n",
    "print(f\"VALIDATION RMSE: {m3_val_RMSE}\")"
   ]
  },
  {
   "cell_type": "markdown",
   "metadata": {},
   "source": [
    "#### 3. Do not tinker with the model any more. This was your final test."
   ]
  }
 ],
 "metadata": {
  "kernelspec": {
   "display_name": "Python 3",
   "language": "python",
   "name": "python3"
  },
  "language_info": {
   "codemirror_mode": {
    "name": "ipython",
    "version": 3
   },
   "file_extension": ".py",
   "mimetype": "text/x-python",
   "name": "python",
   "nbconvert_exporter": "python",
   "pygments_lexer": "ipython3",
   "version": "3.7.3"
  }
 },
 "nbformat": 4,
 "nbformat_minor": 2
}
